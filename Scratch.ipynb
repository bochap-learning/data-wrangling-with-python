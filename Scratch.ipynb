{
 "cells": [
  {
   "cell_type": "markdown",
   "metadata": {},
   "source": [
    "# CDR ScratchBook"
   ]
  },
  {
   "cell_type": "code",
   "execution_count": 2,
   "metadata": {},
   "outputs": [],
   "source": [
    "%matplotlib inline\n",
    "import numpy as np\n",
    "import pandas as pd\n",
    "import matplotlib.pyplot as plt\n",
    "from IPython.display import display"
   ]
  },
  {
   "cell_type": "code",
   "execution_count": 19,
   "metadata": {},
   "outputs": [
    {
     "data": {
      "text/plain": [
       "count             21188.0\n",
       "mean    8161420742.804464\n",
       "std     5491475440.734654\n",
       "min          1571317317.0\n",
       "25%          3096851212.0\n",
       "50%          5624110498.5\n",
       "75%        13096443589.75\n",
       "max         19896005107.0\n",
       "Name: DIALNUM, dtype: float64"
      ]
     },
     "execution_count": 19,
     "metadata": {},
     "output_type": "execute_result"
    }
   ],
   "source": [
    "column_types = {\n",
    "    \n",
    "}\n",
    "\n",
    "pd.set_option('display.float_format', lambda x: '%s' % x)\n",
    "df = pd.read_csv(\"D2019051500_10138341_1-5UNXGK.3097a.csv.gz\")\n",
    "df[\"DIALNUM\"].astype(str, copy=False).describe()\n",
    "#df[df[\"DIALNUM\"].startswith(\"8\")]\n",
    "df[\"DIALNUM\"] "
   ]
  },
  {
   "cell_type": "code",
   "execution_count": null,
   "metadata": {},
   "outputs": [],
   "source": []
  }
 ],
 "metadata": {
  "kernelspec": {
   "display_name": "Python 3",
   "language": "python",
   "name": "python3"
  },
  "language_info": {
   "codemirror_mode": {
    "name": "ipython",
    "version": 3
   },
   "file_extension": ".py",
   "mimetype": "text/x-python",
   "name": "python",
   "nbconvert_exporter": "python",
   "pygments_lexer": "ipython3",
   "version": "3.7.3"
  }
 },
 "nbformat": 4,
 "nbformat_minor": 2
}
