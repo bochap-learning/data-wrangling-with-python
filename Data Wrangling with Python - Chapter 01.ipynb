{
 "cells": [
  {
   "cell_type": "markdown",
   "metadata": {},
   "source": [
    "# Data Wrangling with Python\n",
    "\n",
    "## Introduction to Data Wrangling\n",
    "\n",
    "Data wrangling, sometimes referred to as data munging, is the process of transforming and mapping data from one \"raw\" data form into another format with the intent of making it more appropriate and valuable for a variety of downstream purposes such as analytics. It is generally done at the very first stage of a data science/ analytics pipeline. And it involves the following\n",
    "\n",
    "1. Data Acquisition: Identify and obtain access to the data within your sources (Web, database, files).\n",
    "2. Joining Data : Combine the edited data for further use and analysis.\n",
    "3. Data Cleansing: Redesign the data into a usable/functional format and correct/remove any bad data.\n",
    "\n",
    "### Advantages of using Python for data wrangling\n",
    "1. General purpose open source paradigm putting no restriction on any of the methods you can develop for the specific problem at hand\n",
    "2. Great ecosystem of fast, optimized, open source libraries focused on data analytics\n",
    "3. Growing support to connect Python to every conceivable data source type. And ability to write code to connect to unsupported data sources\n",
    "4. Easy interface to data manipulation and visualization libraries to check data quality\n",
    "5. Ability to call C libraries direct using Python as the coding language for performance.\n",
    "6. Strong support for GPU that provides performance booast for data crunching\n",
    "\n",
    "### Lists, Sets, Strings, Tuples, and Dictionaries\n",
    "This section introduces the various basic data structures in Python. They provide the foundations to manipulate data in Python.\n",
    "\n",
    "#### LISTS\n",
    "Lists are fundamental Python data structures that have the following properties\n",
    "- continuous memory locations\n",
    "- host different data types\n",
    "- accessed by the index."
   ]
  },
  {
   "cell_type": "code",
   "execution_count": 1,
   "metadata": {},
   "outputs": [],
   "source": [
    "# Examples of lists\n",
    "list_example = [ 51, 27, 34, 46, 90, 45, -19 ]  # Simple list with one data types\n",
    "\n",
    "list_example2 = [ 15, 'Yellow car', True, [ 12, \"Hello\" ] ] # List with different data types"
   ]
  },
  {
   "cell_type": "markdown",
   "metadata": {},
   "source": [
    "> Note: Mixing different data types in a single list, can actually create subtle bugs that can be very difficult to track.\n",
    "\n",
    "##### List Access\n",
    "\n",
    "Syntax\n",
    "- Slicing\n",
    "```\n",
    "a[start:stop]      # items start through stop-1\n",
    "a[start:]          # items start through the rest of the array\n",
    "a[:stop]           # items from the beginning through stop-1\n",
    "a[:]               # a copy of the whole array\n",
    "a[start:stop:step] # start through not past stop, by step\n",
    "```"
   ]
  },
  {
   "cell_type": "code",
   "execution_count": 2,
   "metadata": {},
   "outputs": [],
   "source": [
    "# Define a list called list_1 with four integer members, using the following command:\n",
    "list_1 = [ 34, 12, 89, 1 ]"
   ]
  },
  {
   "cell_type": "markdown",
   "metadata": {},
   "source": [
    "| List index visualization       | 34 | 12 | 89 | 1  |\n",
    "|------------------:|:--:|:--:|:--:|:--:|\n",
    "| Indices (Forward) | 0  | 1  | 2  | 3  |\n",
    "| Indices (Backward)| -4 | -3 | -2 | -1 |"
   ]
  },
  {
   "cell_type": "code",
   "execution_count": 3,
   "metadata": {},
   "outputs": [
    {
     "data": {
      "text/plain": [
       "34"
      ]
     },
     "execution_count": 3,
     "metadata": {},
     "output_type": "execute_result"
    }
   ],
   "source": [
    "# Access the first element from list\n",
    "list_1[0]"
   ]
  },
  {
   "cell_type": "code",
   "execution_count": 4,
   "metadata": {},
   "outputs": [
    {
     "data": {
      "text/plain": [
       "1"
      ]
     },
     "execution_count": 4,
     "metadata": {},
     "output_type": "execute_result"
    }
   ],
   "source": [
    "# Access the last element from list\n",
    "list_1[3]"
   ]
  },
  {
   "cell_type": "code",
   "execution_count": 5,
   "metadata": {},
   "outputs": [
    {
     "data": {
      "text/plain": [
       "1"
      ]
     },
     "execution_count": 5,
     "metadata": {},
     "output_type": "execute_result"
    }
   ],
   "source": [
    "# Access the last element from list using len function\n",
    "list_1[len(list_1) - 1]"
   ]
  },
  {
   "cell_type": "code",
   "execution_count": 6,
   "metadata": {},
   "outputs": [
    {
     "data": {
      "text/plain": [
       "1"
      ]
     },
     "execution_count": 6,
     "metadata": {},
     "output_type": "execute_result"
    }
   ],
   "source": [
    "# Access the last element from list using backward index\n",
    "list_1[-1]"
   ]
  },
  {
   "cell_type": "code",
   "execution_count": 7,
   "metadata": {},
   "outputs": [
    {
     "data": {
      "text/plain": [
       "[12, 89]"
      ]
     },
     "execution_count": 7,
     "metadata": {},
     "output_type": "execute_result"
    }
   ],
   "source": [
    "# Access the middle 2 items using forward indices. Format \n",
    "list_1[1:3]"
   ]
  },
  {
   "cell_type": "markdown",
   "metadata": {},
   "source": [
    "> Note: `list[start_index_of_slice, end_index - 1]`\n",
    "`start_index_of_slice` - index to start slice. In the example it is the memory location containing `12`\n",
    "`end_index - 1` - index to end slice. Since it is the index `3 - 1`, in the example it is the memory location containing `89`"
   ]
  },
  {
   "cell_type": "code",
   "execution_count": 8,
   "metadata": {},
   "outputs": [
    {
     "data": {
      "text/plain": [
       "[89, 1]"
      ]
     },
     "execution_count": 8,
     "metadata": {},
     "output_type": "execute_result"
    }
   ],
   "source": [
    "# Access the last two elements using backward index\n",
    "list_1[-2:]"
   ]
  },
  {
   "cell_type": "code",
   "execution_count": 9,
   "metadata": {},
   "outputs": [
    {
     "data": {
      "text/plain": [
       "[34, 12]"
      ]
     },
     "execution_count": 9,
     "metadata": {},
     "output_type": "execute_result"
    }
   ],
   "source": [
    "# Access the first two elements using backward index\n",
    "list_1[:-2]"
   ]
  },
  {
   "cell_type": "code",
   "execution_count": 10,
   "metadata": {},
   "outputs": [
    {
     "data": {
      "text/plain": [
       "[1, 89, 12, 34]"
      ]
     },
     "execution_count": 10,
     "metadata": {},
     "output_type": "execute_result"
    }
   ],
   "source": [
    "# reverse the elements in list. This is not recommended due to the difficulty in understanding what it is doing\n",
    "list_1[-1::-1]"
   ]
  },
  {
   "cell_type": "markdown",
   "metadata": {},
   "source": [
    "#### List Creation"
   ]
  },
  {
   "cell_type": "code",
   "execution_count": 11,
   "metadata": {},
   "outputs": [
    {
     "data": {
      "text/plain": [
       "[0, 1, 2, 3, 4, 5, 6, 7, 8, 9]"
      ]
     },
     "execution_count": 11,
     "metadata": {},
     "output_type": "execute_result"
    }
   ],
   "source": [
    "# using the append method\n",
    "list_1 = []\n",
    "for x in range(0, 10):\n",
    "    list_1.append(x)\n",
    "\n",
    "list_1"
   ]
  },
  {
   "cell_type": "code",
   "execution_count": 12,
   "metadata": {},
   "outputs": [
    {
     "data": {
      "text/plain": [
       "[0, 1, 2, 3, 4, 5, 6, 7, 8, 9]"
      ]
     },
     "execution_count": 12,
     "metadata": {},
     "output_type": "execute_result"
    }
   ],
   "source": [
    "# using list comprehension\n",
    "list_2 = [ x for x in range(0, 10)]\n",
    "list_2"
   ]
  },
  {
   "cell_type": "code",
   "execution_count": 13,
   "metadata": {},
   "outputs": [
    {
     "data": {
      "text/plain": [
       "[0, 5, 10, 15, 20, 25, 30, 35, 40, 45, 50, 55, 60, 65, 70, 75, 80, 85, 90, 95]"
      ]
     },
     "execution_count": 13,
     "metadata": {},
     "output_type": "execute_result"
    }
   ],
   "source": [
    "# using list comprehension with conditions\n",
    "list_3 = [ x for x in range(0, 100) if x % 5 == 0]\n",
    "list_3"
   ]
  },
  {
   "cell_type": "code",
   "execution_count": 14,
   "metadata": {},
   "outputs": [
    {
     "name": "stdout",
     "output_type": "stream",
     "text": [
      "list_1: [1, 4, 56, -1]\n",
      "list_2: [1, 39, 245, -23, 0, 45]\n",
      "list_3: [1, 4, 56, -1, 1, 39, 245, -23, 0, 45]\n"
     ]
    }
   ],
   "source": [
    "# using list concatenation\n",
    "list_1 = [ 1, 4, 56, -1 ]\n",
    "list_2 = [ 1, 39, 245, -23, 0, 45 ]\n",
    "list_3 = list_1 + list_2\n",
    "print(f'list_1: {list_1}')\n",
    "print(f'list_2: {list_2}')\n",
    "print(f'list_3: {list_3}')"
   ]
  },
  {
   "cell_type": "code",
   "execution_count": 15,
   "metadata": {},
   "outputs": [
    {
     "data": {
      "text/plain": [
       "[1, 2, 3, 'a', 'b']"
      ]
     },
     "execution_count": 15,
     "metadata": {},
     "output_type": "execute_result"
    }
   ],
   "source": [
    "# using extend\n",
    "list_1 = [ 1, 2, 3 ]\n",
    "list_2 = [ 'a', 'b' ]\n",
    "list_1.extend(list_2)\n",
    "list_1"
   ]
  },
  {
   "cell_type": "markdown",
   "metadata": {},
   "source": [
    "> `list.extend` will modify the list that the operation is performed on"
   ]
  },
  {
   "cell_type": "code",
   "execution_count": 16,
   "metadata": {},
   "outputs": [
    {
     "data": {
      "text/plain": [
       "[28, 3, 15, 14, 1]"
      ]
     },
     "execution_count": 16,
     "metadata": {},
     "output_type": "execute_result"
    }
   ],
   "source": [
    "# Generate a list with random values\n",
    "import random\n",
    "list_1 = [ random.randint(0, 30) for x in range(0, 5) ]\n",
    "list_1"
   ]
  },
  {
   "cell_type": "markdown",
   "metadata": {},
   "source": [
    "##### List Iteration"
   ]
  },
  {
   "cell_type": "code",
   "execution_count": 17,
   "metadata": {},
   "outputs": [
    {
     "name": "stdout",
     "output_type": "stream",
     "text": [
      "1\n",
      "2\n",
      "3\n",
      "4\n"
     ]
    }
   ],
   "source": [
    "# Iterating through the list using the while loop\n",
    "list_1 = [ 1, 2, 3, 4 ]\n",
    "i = 0\n",
    "while i < len(list_1):\n",
    "    print(list_1[i])\n",
    "    i += 1"
   ]
  },
  {
   "cell_type": "code",
   "execution_count": 18,
   "metadata": {},
   "outputs": [
    {
     "name": "stdout",
     "output_type": "stream",
     "text": [
      "0\n",
      "1\n",
      "2\n",
      "3\n",
      "4\n",
      "5\n",
      "6\n",
      "7\n",
      "8\n",
      "9\n"
     ]
    }
   ],
   "source": [
    "# Iterating through the list using the for in range(len(list)) [Not recomended since Python does not have index initialization, bounds checking, or index incrementing like traditional languages]\n",
    "list_1 = [ x for x in range(0, 10) ]\n",
    "for index in range(0, len(list_1)):\n",
    "    print(list_1[index])"
   ]
  },
  {
   "cell_type": "code",
   "execution_count": 19,
   "metadata": {},
   "outputs": [
    {
     "name": "stdout",
     "output_type": "stream",
     "text": [
      "0\n",
      "1\n",
      "2\n",
      "3\n",
      "4\n",
      "5\n",
      "6\n",
      "7\n",
      "8\n",
      "9\n"
     ]
    }
   ],
   "source": [
    "# Iterating through the list using the for [Recommended Pythonic way]\n",
    "list_1 = [ x for x in range(0, 10) ]\n",
    "for index in range(0, len(list_1)):\n",
    "    print(list_1[index])"
   ]
  },
  {
   "cell_type": "markdown",
   "metadata": {},
   "source": [
    "#### List Searching"
   ]
  },
  {
   "cell_type": "code",
   "execution_count": 20,
   "metadata": {},
   "outputs": [
    {
     "data": {
      "text/plain": [
       "True"
      ]
     },
     "execution_count": 20,
     "metadata": {},
     "output_type": "execute_result"
    }
   ],
   "source": [
    "# Found in list\n",
    "list_1 = [ 1, 3, 4 ]\n",
    "1 in list_1"
   ]
  },
  {
   "cell_type": "code",
   "execution_count": 21,
   "metadata": {},
   "outputs": [
    {
     "data": {
      "text/plain": [
       "False"
      ]
     },
     "execution_count": 21,
     "metadata": {},
     "output_type": "execute_result"
    }
   ],
   "source": [
    "# Not Found in list\n",
    "list_1 = [ 1, 3, 4 ]\n",
    "2 in list_1"
   ]
  },
  {
   "cell_type": "markdown",
   "metadata": {},
   "source": [
    "#### List sorting"
   ]
  },
  {
   "cell_type": "code",
   "execution_count": 22,
   "metadata": {},
   "outputs": [
    {
     "data": {
      "text/plain": [
       "[9, 8, 7, 6, 5, 4, 3, 2, 1, 0]"
      ]
     },
     "execution_count": 22,
     "metadata": {},
     "output_type": "execute_result"
    }
   ],
   "source": [
    "# Sorted in reverse order using reverse parameter\n",
    "list_1 = [ i for i in range(0, 10) ]\n",
    "sorted(list_1, reverse=True)"
   ]
  },
  {
   "cell_type": "code",
   "execution_count": 23,
   "metadata": {},
   "outputs": [
    {
     "data": {
      "text/plain": [
       "[9, 8, 7, 6, 5, 4, 3, 2, 1, 0]"
      ]
     },
     "execution_count": 23,
     "metadata": {},
     "output_type": "execute_result"
    }
   ],
   "source": [
    "# Sort in reverse order using reverse parameter\n",
    "list_1 = [ i for i in range(0, 10) ]\n",
    "list_1.sort(reverse=True)\n",
    "list_1"
   ]
  },
  {
   "cell_type": "code",
   "execution_count": 24,
   "metadata": {},
   "outputs": [
    {
     "data": {
      "text/plain": [
       "[9, 8, 7, 6, 5, 4, 3, 2, 1, 0]"
      ]
     },
     "execution_count": 24,
     "metadata": {},
     "output_type": "execute_result"
    }
   ],
   "source": [
    "# Sort in reverse order using reverse method\n",
    "list_1 = [ i for i in range(0, 10) ]\n",
    "list_1.reverse()\n",
    "list_1"
   ]
  },
  {
   "cell_type": "markdown",
   "metadata": {},
   "source": [
    "> Note: Both `list.sort` and `list.reverse` do sorting in place and modify the original list. And `list.sort` also accepts an optional `key` parameter that allows overriding the default sorting algorthim. `sorted(list)` supports similar parameters as `list.sort`. Using `sorted(list)` is preferred since it minimizes side effect. Although in use cases where side effect does not cause issue `list.sort` is recommended since it need to allocate a new list which is expensive, and if memory is restricted it becomes a bigger concern"
   ]
  },
  {
   "cell_type": "markdown",
   "metadata": {},
   "source": [
    "##### Activity 1: Handling Lists"
   ]
  },
  {
   "cell_type": "code",
   "execution_count": 25,
   "metadata": {},
   "outputs": [
    {
     "data": {
      "text/plain": [
       "[63,\n",
       " 32,\n",
       " 32,\n",
       " 46,\n",
       " 28,\n",
       " 22,\n",
       " 20,\n",
       " 41,\n",
       " 27,\n",
       " 3,\n",
       " 37,\n",
       " 86,\n",
       " 10,\n",
       " 69,\n",
       " 71,\n",
       " 42,\n",
       " 66,\n",
       " 4,\n",
       " 6,\n",
       " 15,\n",
       " 62,\n",
       " 62,\n",
       " 35,\n",
       " 100,\n",
       " 16,\n",
       " 68,\n",
       " 79,\n",
       " 12,\n",
       " 43,\n",
       " 83,\n",
       " 87,\n",
       " 70,\n",
       " 3,\n",
       " 64,\n",
       " 93,\n",
       " 14,\n",
       " 91,\n",
       " 35,\n",
       " 19,\n",
       " 49,\n",
       " 13,\n",
       " 95,\n",
       " 45,\n",
       " 18,\n",
       " 50,\n",
       " 84,\n",
       " 36,\n",
       " 99,\n",
       " 55,\n",
       " 6,\n",
       " 8,\n",
       " 57,\n",
       " 9,\n",
       " 0,\n",
       " 86,\n",
       " 49,\n",
       " 66,\n",
       " 82,\n",
       " 85,\n",
       " 75,\n",
       " 69,\n",
       " 79,\n",
       " 65,\n",
       " 30,\n",
       " 71,\n",
       " 45,\n",
       " 8,\n",
       " 64,\n",
       " 64,\n",
       " 22,\n",
       " 15,\n",
       " 71,\n",
       " 52,\n",
       " 82,\n",
       " 35,\n",
       " 43,\n",
       " 42,\n",
       " 78,\n",
       " 82,\n",
       " 20,\n",
       " 92,\n",
       " 5,\n",
       " 76,\n",
       " 46,\n",
       " 78,\n",
       " 35,\n",
       " 65,\n",
       " 16,\n",
       " 100,\n",
       " 56,\n",
       " 10,\n",
       " 61,\n",
       " 5,\n",
       " 79,\n",
       " 30,\n",
       " 1,\n",
       " 13,\n",
       " 4,\n",
       " 47,\n",
       " 96]"
      ]
     },
     "execution_count": 25,
     "metadata": {},
     "output_type": "execute_result"
    }
   ],
   "source": [
    "# create a list of 100 random numbers\n",
    "import random\n",
    "\n",
    "LIMIT = 100\n",
    "\n",
    "random_list = [ random.randint(0, LIMIT) for i in range(0, LIMIT) ]\n",
    "random_list"
   ]
  },
  {
   "cell_type": "code",
   "execution_count": 26,
   "metadata": {},
   "outputs": [
    {
     "data": {
      "text/plain": [
       "[63,\n",
       " 27,\n",
       " 3,\n",
       " 69,\n",
       " 42,\n",
       " 66,\n",
       " 6,\n",
       " 15,\n",
       " 12,\n",
       " 87,\n",
       " 3,\n",
       " 93,\n",
       " 45,\n",
       " 18,\n",
       " 84,\n",
       " 36,\n",
       " 99,\n",
       " 6,\n",
       " 57,\n",
       " 9,\n",
       " 0,\n",
       " 66,\n",
       " 75,\n",
       " 69,\n",
       " 30,\n",
       " 45,\n",
       " 15,\n",
       " 42,\n",
       " 78,\n",
       " 78,\n",
       " 30,\n",
       " 96]"
      ]
     },
     "execution_count": 26,
     "metadata": {},
     "output_type": "execute_result"
    }
   ],
   "source": [
    "# generate a new list of numbers divisible by 3 from random_list\n",
    "divisible_by_3 = [ i for i in random_list if i % 3 == 0 ]\n",
    "divisible_by_3"
   ]
  },
  {
   "cell_type": "code",
   "execution_count": 27,
   "metadata": {},
   "outputs": [
    {
     "data": {
      "text/plain": [
       "68"
      ]
     },
     "execution_count": 27,
     "metadata": {},
     "output_type": "execute_result"
    }
   ],
   "source": [
    "# calculate len of both list and store in a variable\n",
    "diff_in_count = len(random_list) - len(divisible_by_3)\n",
    "diff_in_count"
   ]
  },
  {
   "cell_type": "code",
   "execution_count": 28,
   "metadata": {},
   "outputs": [
    {
     "data": {
      "text/plain": [
       "67.2"
      ]
     },
     "execution_count": 28,
     "metadata": {},
     "output_type": "execute_result"
    }
   ],
   "source": [
    "NUMBER_OF_EXPERIMENTS = 10\n",
    "difference_list = []\n",
    "for i in range(0, 10):\n",
    "    random_list = [ random.randint(0, LIMIT) for i in range(0, LIMIT) ]\n",
    "    divisible_by_3 = [ i for i in random_list if i % 3 == 0 ]\n",
    "    difference_list.append(len(random_list) - len(divisible_by_3))\n",
    "    \n",
    "avg_diff = sum(difference_list) / float(len(difference_list))\n",
    "avg_diff"
   ]
  },
  {
   "cell_type": "markdown",
   "metadata": {},
   "source": [
    "#### Set\n",
    "A collection of distinct objects"
   ]
  },
  {
   "cell_type": "markdown",
   "metadata": {},
   "source": [
    "##### Set Creation"
   ]
  },
  {
   "cell_type": "code",
   "execution_count": 29,
   "metadata": {},
   "outputs": [
    {
     "data": {
      "text/plain": [
       "{1, 2, 3, 5}"
      ]
     },
     "execution_count": 29,
     "metadata": {},
     "output_type": "execute_result"
    }
   ],
   "source": [
    "# creating a set\n",
    "list_1 = [ 1, 2, 2, 3, 1, 5 ]\n",
    "set_1 = set(list_1)\n",
    "set_1"
   ]
  },
  {
   "cell_type": "code",
   "execution_count": 30,
   "metadata": {},
   "outputs": [
    {
     "data": {
      "text/plain": [
       "set()"
      ]
     },
     "execution_count": 30,
     "metadata": {},
     "output_type": "execute_result"
    }
   ],
   "source": [
    "# creating a null set\n",
    "null_set_1 = set({})\n",
    "null_set_1"
   ]
  },
  {
   "cell_type": "markdown",
   "metadata": {},
   "source": [
    "> Note: This is different from creating a dictionary which is `dict_1 = {}`"
   ]
  },
  {
   "cell_type": "markdown",
   "metadata": {},
   "source": [
    "##### Set Operation"
   ]
  },
  {
   "cell_type": "code",
   "execution_count": 31,
   "metadata": {},
   "outputs": [
    {
     "data": {
      "text/plain": [
       "{'Apple', 'Coconut', 'Mango', 'Orange', 'Pineapple'}"
      ]
     },
     "execution_count": 31,
     "metadata": {},
     "output_type": "execute_result"
    }
   ],
   "source": [
    "# Union - Get a new set of all unique elements from unioning between 2 sets \n",
    "set_1 = { 'Apple', 'Orange', 'Pineapple' }\n",
    "set_2 = { 'Mango', 'Orange', 'Coconut' }\n",
    "set_1 | set_2"
   ]
  },
  {
   "cell_type": "code",
   "execution_count": 32,
   "metadata": {},
   "outputs": [
    {
     "data": {
      "text/plain": [
       "{'Orange'}"
      ]
     },
     "execution_count": 32,
     "metadata": {},
     "output_type": "execute_result"
    }
   ],
   "source": [
    "# Intersection - Get a new set of all elements that belong to both 2 sets \n",
    "set_1 = { 'Apple', 'Orange', 'Pineapple' }\n",
    "set_2 = { 'Mango', 'Orange', 'Coconut' }\n",
    "set_1 & set_2"
   ]
  },
  {
   "cell_type": "code",
   "execution_count": 33,
   "metadata": {},
   "outputs": [
    {
     "data": {
      "text/plain": [
       "{'Apple', 'Coconut', 'Mango', 'Pineapple'}"
      ]
     },
     "execution_count": 33,
     "metadata": {},
     "output_type": "execute_result"
    }
   ],
   "source": [
    "# Compliments - Get a new set of all elements that belong in either of the 2 sets but not both\n",
    "set_1 = { 'Apple', 'Orange', 'Pineapple' }\n",
    "set_2 = { 'Mango', 'Orange', 'Coconut' }\n",
    "(set_1 | set_2) - (set_1 & set_2)"
   ]
  },
  {
   "cell_type": "markdown",
   "metadata": {},
   "source": [
    "#### Dictionary\n",
    "It is similar to a list that it is a collection. But the collection is different in that it stores key-value pairs. The key is any value that is hashable"
   ]
  },
  {
   "cell_type": "markdown",
   "metadata": {},
   "source": [
    "##### Dictionary Creation"
   ]
  },
  {
   "cell_type": "code",
   "execution_count": 34,
   "metadata": {},
   "outputs": [
    {
     "data": {
      "text/plain": [
       "{'key1': 'value1', 'key2': 'value2'}"
      ]
     },
     "execution_count": 34,
     "metadata": {},
     "output_type": "execute_result"
    }
   ],
   "source": [
    "# create a simple dictionary\n",
    "dict_1 = { 'key1': 'value1', 'key2': 'value2' }\n",
    "dict_1"
   ]
  },
  {
   "cell_type": "code",
   "execution_count": 35,
   "metadata": {},
   "outputs": [
    {
     "data": {
      "text/plain": [
       "{'key1': 'value1',\n",
       " 'key2': ['list_element1', 34],\n",
       " 'key3': 'value3',\n",
       " 'key4': {'subkey1': 'v1'},\n",
       " 'key5': 4.5}"
      ]
     },
     "execution_count": 35,
     "metadata": {},
     "output_type": "execute_result"
    }
   ],
   "source": [
    "# create a simple dictionary with different types\n",
    "dict_2 = {\n",
    "    'key1': 'value1', \n",
    "    'key2': [ 'list_element1', 34 ],\n",
    "    'key3': 'value3',\n",
    "    'key4': { 'subkey1': 'v1' },\n",
    "    'key5': 4.5\n",
    "}\n",
    "dict_2"
   ]
  },
  {
   "cell_type": "code",
   "execution_count": 36,
   "metadata": {},
   "outputs": [
    {
     "data": {
      "text/plain": [
       "{'Tom': 'Cat', 'Jerry': 'Mouse'}"
      ]
     },
     "execution_count": 36,
     "metadata": {},
     "output_type": "execute_result"
    }
   ],
   "source": [
    "# create a dictionary using dict on a list of tuples\n",
    "dict_2 = dict([\n",
    "    ('Tom', 'Cat'),\n",
    "    ('Jerry', 'Mouse'),\n",
    "])\n",
    "dict_2"
   ]
  },
  {
   "cell_type": "code",
   "execution_count": 37,
   "metadata": {},
   "outputs": [
    {
     "data": {
      "text/plain": [
       "{'key1': 'value2'}"
      ]
     },
     "execution_count": 37,
     "metadata": {},
     "output_type": "execute_result"
    }
   ],
   "source": [
    "# Non unique keys\n",
    "dict_3 = { 'key1': 'value1', 'key1': 'value2' }\n",
    "dict_3"
   ]
  },
  {
   "cell_type": "markdown",
   "metadata": {},
   "source": [
    "> Note: Keys must be unique else the later declaration will override the value of the previous declaration"
   ]
  },
  {
   "cell_type": "markdown",
   "metadata": {},
   "source": [
    "##### Dictionary Access"
   ]
  },
  {
   "cell_type": "code",
   "execution_count": 38,
   "metadata": {},
   "outputs": [
    {
     "ename": "KeyError",
     "evalue": "'key2'",
     "output_type": "error",
     "traceback": [
      "\u001b[0;31m---------------------------------------------------------------------------\u001b[0m",
      "\u001b[0;31mKeyError\u001b[0m                                  Traceback (most recent call last)",
      "\u001b[0;32m<ipython-input-38-49c15bf901c7>\u001b[0m in \u001b[0;36m<module>\u001b[0;34m\u001b[0m\n\u001b[1;32m      1\u001b[0m \u001b[0;31m# Access an element in the dictionary using the key\u001b[0m\u001b[0;34m\u001b[0m\u001b[0;34m\u001b[0m\u001b[0;34m\u001b[0m\u001b[0m\n\u001b[0;32m----> 2\u001b[0;31m \u001b[0mdict_2\u001b[0m\u001b[0;34m[\u001b[0m\u001b[0;34m'key2'\u001b[0m\u001b[0;34m]\u001b[0m\u001b[0;34m\u001b[0m\u001b[0;34m\u001b[0m\u001b[0m\n\u001b[0m",
      "\u001b[0;31mKeyError\u001b[0m: 'key2'"
     ]
    }
   ],
   "source": [
    "# Access an element in the dictionary using the key\n",
    "dict_2['key2']"
   ]
  },
  {
   "cell_type": "code",
   "execution_count": 39,
   "metadata": {},
   "outputs": [
    {
     "data": {
      "text/plain": [
       "'My new value'"
      ]
     },
     "execution_count": 39,
     "metadata": {},
     "output_type": "execute_result"
    }
   ],
   "source": [
    "# Override an element in the dictionary using the key\n",
    "dict_2['key2'] = 'My new value'\n",
    "dict_2['key2']"
   ]
  },
  {
   "cell_type": "code",
   "execution_count": 40,
   "metadata": {},
   "outputs": [
    {
     "data": {
      "text/plain": [
       "{'key1': 'Value1'}"
      ]
     },
     "execution_count": 40,
     "metadata": {},
     "output_type": "execute_result"
    }
   ],
   "source": [
    "# Define a blank dictionary and use the key notation to assign values\n",
    "dict_3 = {}\n",
    "dict_3['key1'] = 'Value1'\n",
    "dict_3"
   ]
  },
  {
   "cell_type": "markdown",
   "metadata": {},
   "source": [
    "##### Dictionary Iteration"
   ]
  },
  {
   "cell_type": "code",
   "execution_count": 41,
   "metadata": {},
   "outputs": [
    {
     "name": "stdout",
     "output_type": "stream",
     "text": [
      "key1 - value1\n",
      "key2 - ['list_element1', 34]\n",
      "key3 - value3\n",
      "key4 - {'subkey1': 'v1'}\n",
      "key5 - 4.5\n"
     ]
    }
   ],
   "source": [
    "# looping using for and dict.items()\n",
    "dict_1 = {\n",
    "    'key1': 'value1', \n",
    "    'key2': [ 'list_element1', 34 ],\n",
    "    'key3': 'value3',\n",
    "    'key4': { 'subkey1': 'v1' },\n",
    "    'key5': 4.5\n",
    "}\n",
    "\n",
    "for k, v in dict_1.items():\n",
    "    print(f'{k} - {v}')"
   ]
  },
  {
   "cell_type": "markdown",
   "metadata": {},
   "source": [
    "##### Dictionary Delete"
   ]
  },
  {
   "cell_type": "code",
   "execution_count": 42,
   "metadata": {},
   "outputs": [
    {
     "name": "stdout",
     "output_type": "stream",
     "text": [
      "dict_1 pre delete: {'key1': 1, 'key2': ['list_element1', 34], 'key3': 'value3', 'key4': {'subkey1': 'v1'}, 'key5': 4.5}\n",
      "dict_1 post delete: {'key1': 1, 'key3': 'value3', 'key4': {'subkey1': 'v1'}, 'key5': 4.5}\n"
     ]
    }
   ],
   "source": [
    "# Delete an element from the dictionary\n",
    "dict_1 = {\n",
    "    \"key1\": 1,\n",
    "    \"key2\": [\"list_element1\", 34],\n",
    "    \"key3\": \"value3\",\n",
    "    \"key4\": {\"subkey1\": \"v1\"},\n",
    "    \"key5\": 4.5\n",
    "}\n",
    "\n",
    "print(f'dict_1 pre delete: {dict_1}')\n",
    "del dict_1['key2']\n",
    "print(f'dict_1 post delete: {dict_1}')"
   ]
  },
  {
   "cell_type": "markdown",
   "metadata": {},
   "source": [
    "##### Dictionary Comprehension"
   ]
  },
  {
   "cell_type": "code",
   "execution_count": 43,
   "metadata": {},
   "outputs": [
    {
     "data": {
      "text/plain": [
       "{0: 0, 1: 1, 2: 4, 3: 9, 4: 16, 5: 25, 6: 36, 7: 49, 8: 64, 9: 81}"
      ]
     },
     "execution_count": 43,
     "metadata": {},
     "output_type": "execute_result"
    }
   ],
   "source": [
    "# using comprehension to generate a dictionary with x as key and x ** 2 as value\n",
    "dict_1 = { x: x ** 2 for x in range(0, 10) }\n",
    "dict_1"
   ]
  },
  {
   "cell_type": "code",
   "execution_count": 45,
   "metadata": {},
   "outputs": [
    {
     "data": {
      "text/plain": [
       "{0: 0.0,\n",
       " 1: 1.0,\n",
       " 2: 1.4142135623730951,\n",
       " 3: 1.7320508075688772,\n",
       " 4: 2.0,\n",
       " 5: 2.23606797749979,\n",
       " 6: 2.449489742783178,\n",
       " 7: 2.6457513110645907,\n",
       " 8: 2.8284271247461903,\n",
       " 9: 3.0}"
      ]
     },
     "execution_count": 45,
     "metadata": {},
     "output_type": "execute_result"
    }
   ],
   "source": [
    "# using comprehension to generate a dictionary with x as key and x ** 2 as value\n",
    "dict_2 = { x: x ** (1.0 / 2) for x in range(0, 10) }\n",
    "dict_2"
   ]
  },
  {
   "cell_type": "markdown",
   "metadata": {},
   "source": [
    "##### Dictionary Special Methods"
   ]
  },
  {
   "cell_type": "code",
   "execution_count": 46,
   "metadata": {},
   "outputs": [
    {
     "data": {
      "text/plain": [
       "[3, 1, 0, 2]"
      ]
     },
     "execution_count": 46,
     "metadata": {},
     "output_type": "execute_result"
    }
   ],
   "source": [
    "# Uncommon use of dictionary to generate unique lists\n",
    "import random\n",
    "list_1 = [ random.randint(0, 3) for x in range(0, 100) ]\n",
    "list(dict.fromkeys(list_1).keys())"
   ]
  },
  {
   "cell_type": "markdown",
   "metadata": {},
   "source": [
    "#### Tuples\n",
    "A tuple is a sequence of immutable Python objects. Tuples are sequences just like list but they cannot be modified. The elements in the sequence are also declared using parentheses (optional if not empty) while arrays use square brackets.\n",
    "\n",
    "##### Tuple Creation"
   ]
  },
  {
   "cell_type": "code",
   "execution_count": 47,
   "metadata": {},
   "outputs": [
    {
     "data": {
      "text/plain": [
       "(24, 42, 2.3456, 'Hello')"
      ]
     },
     "execution_count": 47,
     "metadata": {},
     "output_type": "execute_result"
    }
   ],
   "source": [
    "# creating a tuple\n",
    "tuple_1 = 24, 42, 2.3456, 'Hello'\n",
    "tuple_1"
   ]
  },
  {
   "cell_type": "code",
   "execution_count": 48,
   "metadata": {},
   "outputs": [
    {
     "data": {
      "text/plain": [
       "()"
      ]
     },
     "execution_count": 48,
     "metadata": {},
     "output_type": "execute_result"
    }
   ],
   "source": [
    "# creating an empty tuple\n",
    "tuple_1 = ()\n",
    "tuple_1"
   ]
  },
  {
   "cell_type": "code",
   "execution_count": 49,
   "metadata": {},
   "outputs": [
    {
     "data": {
      "text/plain": [
       "('Hello',)"
      ]
     },
     "execution_count": 49,
     "metadata": {},
     "output_type": "execute_result"
    }
   ],
   "source": [
    "# creating a tuple with 1 value.\n",
    "tuple_1 = 'Hello',\n",
    "tuple_1"
   ]
  },
  {
   "cell_type": "markdown",
   "metadata": {},
   "source": [
    "> Note: the trailing comma is required for it to be declared as a tuple"
   ]
  },
  {
   "cell_type": "code",
   "execution_count": 50,
   "metadata": {},
   "outputs": [
    {
     "data": {
      "text/plain": [
       "(('hello', 'there'), 45, 'Sam')"
      ]
     },
     "execution_count": 50,
     "metadata": {},
     "output_type": "execute_result"
    }
   ],
   "source": [
    "# creating a nested tuple\n",
    "tuple_1 = 'hello', 'there'\n",
    "tuple_12 = tuple_1, 45, 'Sam'\n",
    "tuple_12"
   ]
  },
  {
   "cell_type": "markdown",
   "metadata": {},
   "source": [
    "##### Tuple Unpacking"
   ]
  },
  {
   "cell_type": "code",
   "execution_count": 51,
   "metadata": {},
   "outputs": [
    {
     "name": "stdout",
     "output_type": "stream",
     "text": [
      "hello: hello\n",
      "world: world\n"
     ]
    }
   ],
   "source": [
    "tuple_1 = 'hello', 'world'\n",
    "hello, world = tuple_1\n",
    "print(f'hello: {hello}')\n",
    "print(f'world: {world}')"
   ]
  },
  {
   "cell_type": "markdown",
   "metadata": {},
   "source": [
    "##### Tuple Error"
   ]
  },
  {
   "cell_type": "code",
   "execution_count": 52,
   "metadata": {},
   "outputs": [
    {
     "ename": "TypeError",
     "evalue": "'tuple' object does not support item assignment",
     "output_type": "error",
     "traceback": [
      "\u001b[0;31m---------------------------------------------------------------------------\u001b[0m",
      "\u001b[0;31mTypeError\u001b[0m                                 Traceback (most recent call last)",
      "\u001b[0;32m<ipython-input-52-53d340002fa0>\u001b[0m in \u001b[0;36m<module>\u001b[0;34m\u001b[0m\n\u001b[1;32m      1\u001b[0m \u001b[0mtuple_1\u001b[0m \u001b[0;34m=\u001b[0m \u001b[0;34m'hello'\u001b[0m\u001b[0;34m,\u001b[0m \u001b[0;34m'there'\u001b[0m\u001b[0;34m\u001b[0m\u001b[0;34m\u001b[0m\u001b[0m\n\u001b[0;32m----> 2\u001b[0;31m \u001b[0mtuple_1\u001b[0m\u001b[0;34m[\u001b[0m\u001b[0;36m1\u001b[0m\u001b[0;34m]\u001b[0m \u001b[0;34m=\u001b[0m \u001b[0;34m'This is not allowed'\u001b[0m\u001b[0;34m\u001b[0m\u001b[0;34m\u001b[0m\u001b[0m\n\u001b[0m",
      "\u001b[0;31mTypeError\u001b[0m: 'tuple' object does not support item assignment"
     ]
    }
   ],
   "source": [
    "tuple_1 = 'hello', 'there'\n",
    "tuple_1[1] = 'This is not allowed'"
   ]
  },
  {
   "cell_type": "markdown",
   "metadata": {},
   "source": [
    "#### Strings\n",
    "Strings are a sequence of characters and they can be defined using single or double quotes. But they must be the same meaning `''` and `\"\"` are allowed while `'\"` and `'\"` are not allowed.\n",
    "\n",
    "##### String Creation"
   ]
  },
  {
   "cell_type": "code",
   "execution_count": null,
   "metadata": {},
   "outputs": [],
   "source": [
    "# String creation using `''`\n",
    "string1 = 'Hello World!'\n",
    "string1"
   ]
  },
  {
   "cell_type": "code",
   "execution_count": null,
   "metadata": {},
   "outputs": [],
   "source": [
    "# String creation using `\"\"`\n",
    "string2 = \"Hello World!\"\n",
    "string2"
   ]
  },
  {
   "cell_type": "markdown",
   "metadata": {},
   "source": [
    "##### String Access"
   ]
  },
  {
   "cell_type": "code",
   "execution_count": null,
   "metadata": {},
   "outputs": [],
   "source": [
    "str_1 = 'Hello World!'\n",
    "\n",
    "# Access first member\n",
    "str_1[0]"
   ]
  },
  {
   "cell_type": "code",
   "execution_count": null,
   "metadata": {},
   "outputs": [],
   "source": [
    "# Access the fourth member\n",
    "str_1[3]"
   ]
  },
  {
   "cell_type": "code",
   "execution_count": null,
   "metadata": {},
   "outputs": [],
   "source": [
    "# Access the last member\n",
    "str_1[len(str_1) - 1]"
   ]
  },
  {
   "cell_type": "code",
   "execution_count": null,
   "metadata": {},
   "outputs": [],
   "source": [
    "# Access the last member using reverse index\n",
    "str_1[-1]"
   ]
  },
  {
   "cell_type": "markdown",
   "metadata": {},
   "source": [
    "> Note: Accessing a member of the string is like accessing a member of a list"
   ]
  },
  {
   "cell_type": "markdown",
   "metadata": {},
   "source": [
    "##### String Slicing"
   ]
  },
  {
   "cell_type": "code",
   "execution_count": null,
   "metadata": {},
   "outputs": [],
   "source": [
    "str_1 = 'Hello World! I am learning data wrangling'\n",
    "\n",
    "# length of string for reference\n",
    "len(str_1)"
   ]
  },
  {
   "cell_type": "code",
   "execution_count": null,
   "metadata": {},
   "outputs": [],
   "source": [
    "# slice from member at index 2 till index 9\n",
    "str_1[2:10]"
   ]
  },
  {
   "cell_type": "code",
   "execution_count": null,
   "metadata": {},
   "outputs": [],
   "source": [
    "# slice from member at index 9 till end of string. Using reverse indexing\n",
    "str_1[-31:]"
   ]
  },
  {
   "cell_type": "code",
   "execution_count": null,
   "metadata": {},
   "outputs": [],
   "source": [
    "# slice using reverse indexing\n",
    "str_1[-10:-5]"
   ]
  },
  {
   "cell_type": "markdown",
   "metadata": {},
   "source": [
    "##### String Functions"
   ]
  },
  {
   "cell_type": "code",
   "execution_count": 53,
   "metadata": {},
   "outputs": [
    {
     "data": {
      "text/plain": [
       "41"
      ]
     },
     "execution_count": 53,
     "metadata": {},
     "output_type": "execute_result"
    }
   ],
   "source": [
    "# Getting the length\n",
    "str_1 = 'Hello World! I am learning data wrangling'\n",
    "len(str_1)"
   ]
  },
  {
   "cell_type": "code",
   "execution_count": 54,
   "metadata": {},
   "outputs": [
    {
     "data": {
      "text/plain": [
       "'a complete lower case string'"
      ]
     },
     "execution_count": 54,
     "metadata": {},
     "output_type": "execute_result"
    }
   ],
   "source": [
    "# lower case\n",
    "str_1 = 'A COMPLETE {0} CASE STRING'\n",
    "\n",
    "str_1.format('LOWER').lower()"
   ]
  },
  {
   "cell_type": "code",
   "execution_count": 55,
   "metadata": {},
   "outputs": [
    {
     "data": {
      "text/plain": [
       "'A COMPLETE UPPER CASE STRING'"
      ]
     },
     "execution_count": 55,
     "metadata": {},
     "output_type": "execute_result"
    }
   ],
   "source": [
    "# upper case\n",
    "str_1.format('upper').upper()"
   ]
  },
  {
   "cell_type": "code",
   "execution_count": 56,
   "metadata": {},
   "outputs": [
    {
     "data": {
      "text/plain": [
       "2"
      ]
     },
     "execution_count": 56,
     "metadata": {},
     "output_type": "execute_result"
    }
   ],
   "source": [
    "# string search successful\n",
    "str_1 = \"A complicated string looks like this\"\n",
    "str_1.find('complicated')  # successful search returns index of first character found"
   ]
  },
  {
   "cell_type": "code",
   "execution_count": 57,
   "metadata": {},
   "outputs": [
    {
     "data": {
      "text/plain": [
       "-1"
      ]
     },
     "execution_count": 57,
     "metadata": {},
     "output_type": "execute_result"
    }
   ],
   "source": [
    "# string search unsuccessful\n",
    "str_1.find('Complicated')  # unsuccessful search returns -1"
   ]
  },
  {
   "cell_type": "code",
   "execution_count": 58,
   "metadata": {},
   "outputs": [
    {
     "data": {
      "text/plain": [
       "'A simple string looks like this'"
      ]
     },
     "execution_count": 58,
     "metadata": {},
     "output_type": "execute_result"
    }
   ],
   "source": [
    "# string replace successful\n",
    "str_1 = \"A complicated string looks like this\"\n",
    "str_1.replace('complicated', 'simple')"
   ]
  },
  {
   "cell_type": "code",
   "execution_count": 59,
   "metadata": {},
   "outputs": [
    {
     "data": {
      "text/plain": [
       "'A complicated string looks like this'"
      ]
     },
     "execution_count": 59,
     "metadata": {},
     "output_type": "execute_result"
    }
   ],
   "source": [
    "# string replace unsuccessful\n",
    "str_1 = \"A complicated string looks like this\"\n",
    "str_1.replace('Complicated', 'simple')"
   ]
  },
  {
   "cell_type": "code",
   "execution_count": 60,
   "metadata": {},
   "outputs": [
    {
     "data": {
      "text/plain": [
       "['Name', 'Age', 'Sex', 'Address']"
      ]
     },
     "execution_count": 60,
     "metadata": {},
     "output_type": "execute_result"
    }
   ],
   "source": [
    "# string split\n",
    "str_1 = 'Name,Age,Sex,Address'\n",
    "list_1 = str_1.split(',')\n",
    "list_1"
   ]
  },
  {
   "cell_type": "code",
   "execution_count": 61,
   "metadata": {},
   "outputs": [
    {
     "data": {
      "text/plain": [
       "'Name | Age | Sex | Address'"
      ]
     },
     "execution_count": 61,
     "metadata": {},
     "output_type": "execute_result"
    }
   ],
   "source": [
    "# string join\n",
    "\" | \".join(list_1)"
   ]
  },
  {
   "cell_type": "markdown",
   "metadata": {},
   "source": [
    "##### Activity 2: Analyze a multiline string and generate the unique word count"
   ]
  },
  {
   "cell_type": "code",
   "execution_count": 62,
   "metadata": {},
   "outputs": [
    {
     "data": {
      "text/plain": [
       "'\\nIt is a truth universally acknowledged, that a single man in possession of a good fortune, must be in want of a wife.\\n\\nHowever little known the feelings or views of such a man may be on his first entering a neighbourhood, this truth is so well fixed in the minds of the surrounding families, that he is considered the rightful property of some one or other of their daughters.\\n\\n\"My dear Mr. Bennet,\" said his lady to him one day, \"have you heard that Netherfield Park is let at last?\"\\n\\nMr. Bennet replied that he had not.\\n\\n\"But it is,\" returned she; \"for Mrs. Long has just been here, and she told me all about it.\"\\n\\nMr. Bennet made no answer.\\n\\n\"Do you not want to know who has taken it?\" cried his wife impatiently.\\n\\n\"You want to tell me, and I have no objection to hearing it.\"\\n\\nThis was invitation enough.\\n\\n\"Why, my dear, you must know, Mrs. Long says that Netherfield is taken by a young man of large fortune from the north of England; that he came down on Monday in a chaise and four to see the place, and was so much delighted with it, that he agreed with Mr. Morris immediately; that he is to take possession before Michaelmas, and some of his servants are to be in the house by the end of next week.\"\\n\\n\"What is his name?\"\\n\\n\"Bingley.\"\\n\\n\"Is he married or single?\"\\n\\n\"Oh! Single, my dear, to be sure! A single man of large fortune; four or five thousand a year. What a fine thing for our girls!\"\\n\\n\"How so? How can it affect them?\"\\n\\n\"My dear Mr. Bennet,\" replied his wife, \"how can you be so tiresome! You must know that I am thinking of his marrying one of them.\"\\n\\n\"Is that his design in settling here?\"\\n\\n\"Design! Nonsense, how can you talk so! But it is very likely that he may fall in love with one of them, and therefore you must visit him as soon as he comes.\"\\n\\n\"I see no occasion for that. You and the girls may go, or you may send them by themselves, which perhaps will be still better, for as you are as handsome as any of them, Mr. Bingley may like you the best of the party.\"\\n\\n\"My dear, you flatter me. I certainly have had my share of beauty, but I do not pretend to be anything extraordinary now. When a woman has five grown-up daughters, she ought to give over thinking of her own beauty.\"\\n\\n\"In such cases, a woman has not often much beauty to think of.\"\\n\\n\"But, my dear, you must indeed go and see Mr. Bingley when he comes into the neighbourhood.\"\\n\\n\"It is more than I engage for, I assure you.\"\\n\\n\"But consider your daughters. Only think what an establishment it would be for one of them. Sir William and Lady Lucas are determined to go, merely on that account, for in general, you know, they visit no newcomers. Indeed you must go, for it will be impossible for us to visit him if you do not.\"\\n\\n\"You are over-scrupulous, surely. I dare say Mr. Bingley will be very glad to see you; and I will send a few lines by you to assure him of my hearty consent to his marrying whichever he chooses of the girls; though I must throw in a good word for my little Lizzy.\"\\n\\n\"I desire you will do no such thing. Lizzy is not a bit better than the others; and I am sure she is not half so handsome as Jane, nor half so good-humoured as Lydia. But you are always giving her the preference.\"\\n\\n\"They have none of them much to recommend them,\" replied he; \"they are all silly and ignorant like other girls; but Lizzy has something more of quickness than her sisters.\"\\n\\n\"Mr. Bennet, how can you abuse your own children in such a way? You take delight in vexing me. You have no compassion for my poor nerves.\"\\n\\n\"You mistake me, my dear. I have a high respect for your nerves. They are my old friends. I have heard you mention them with consideration these last twenty years at least.\"\\n\\n\"Ah, you do not know what I suffer.\"\\n\\n\"But I hope you will get over it, and live to see many young men of four thousand a year come into the neighbourhood.\"\\n\\n\"It will be no use to us, if twenty such should come, since you will not visit them.\"\\n\\n\"Depend upon it, my dear, that when there are twenty, I will visit them all.\"\\n\\nMr. Bennet was so odd a mixture of quick parts, sarcastic humour, reserve, and caprice, that the experience of three-and-twenty years had been insufficient to make his wife understand his character. Her mind was less difficult to develop. She was a woman of mean understanding, little information, and uncertain temper. When she was discontented, she fancied herself nervous. The business of her life was to get her daughters married; its solace was visiting and news. \\n'"
      ]
     },
     "execution_count": 62,
     "metadata": {},
     "output_type": "execute_result"
    }
   ],
   "source": [
    "import string\n",
    "\n",
    "# create multiline string\n",
    "multi_line_str = \"\"\"\n",
    "It is a truth universally acknowledged, that a single man in possession of a good fortune, must be in want of a wife.\n",
    "\n",
    "However little known the feelings or views of such a man may be on his first entering a neighbourhood, this truth is so well fixed in the minds of the surrounding families, that he is considered the rightful property of some one or other of their daughters.\n",
    "\n",
    "\"My dear Mr. Bennet,\" said his lady to him one day, \"have you heard that Netherfield Park is let at last?\"\n",
    "\n",
    "Mr. Bennet replied that he had not.\n",
    "\n",
    "\"But it is,\" returned she; \"for Mrs. Long has just been here, and she told me all about it.\"\n",
    "\n",
    "Mr. Bennet made no answer.\n",
    "\n",
    "\"Do you not want to know who has taken it?\" cried his wife impatiently.\n",
    "\n",
    "\"You want to tell me, and I have no objection to hearing it.\"\n",
    "\n",
    "This was invitation enough.\n",
    "\n",
    "\"Why, my dear, you must know, Mrs. Long says that Netherfield is taken by a young man of large fortune from the north of England; that he came down on Monday in a chaise and four to see the place, and was so much delighted with it, that he agreed with Mr. Morris immediately; that he is to take possession before Michaelmas, and some of his servants are to be in the house by the end of next week.\"\n",
    "\n",
    "\"What is his name?\"\n",
    "\n",
    "\"Bingley.\"\n",
    "\n",
    "\"Is he married or single?\"\n",
    "\n",
    "\"Oh! Single, my dear, to be sure! A single man of large fortune; four or five thousand a year. What a fine thing for our girls!\"\n",
    "\n",
    "\"How so? How can it affect them?\"\n",
    "\n",
    "\"My dear Mr. Bennet,\" replied his wife, \"how can you be so tiresome! You must know that I am thinking of his marrying one of them.\"\n",
    "\n",
    "\"Is that his design in settling here?\"\n",
    "\n",
    "\"Design! Nonsense, how can you talk so! But it is very likely that he may fall in love with one of them, and therefore you must visit him as soon as he comes.\"\n",
    "\n",
    "\"I see no occasion for that. You and the girls may go, or you may send them by themselves, which perhaps will be still better, for as you are as handsome as any of them, Mr. Bingley may like you the best of the party.\"\n",
    "\n",
    "\"My dear, you flatter me. I certainly have had my share of beauty, but I do not pretend to be anything extraordinary now. When a woman has five grown-up daughters, she ought to give over thinking of her own beauty.\"\n",
    "\n",
    "\"In such cases, a woman has not often much beauty to think of.\"\n",
    "\n",
    "\"But, my dear, you must indeed go and see Mr. Bingley when he comes into the neighbourhood.\"\n",
    "\n",
    "\"It is more than I engage for, I assure you.\"\n",
    "\n",
    "\"But consider your daughters. Only think what an establishment it would be for one of them. Sir William and Lady Lucas are determined to go, merely on that account, for in general, you know, they visit no newcomers. Indeed you must go, for it will be impossible for us to visit him if you do not.\"\n",
    "\n",
    "\"You are over-scrupulous, surely. I dare say Mr. Bingley will be very glad to see you; and I will send a few lines by you to assure him of my hearty consent to his marrying whichever he chooses of the girls; though I must throw in a good word for my little Lizzy.\"\n",
    "\n",
    "\"I desire you will do no such thing. Lizzy is not a bit better than the others; and I am sure she is not half so handsome as Jane, nor half so good-humoured as Lydia. But you are always giving her the preference.\"\n",
    "\n",
    "\"They have none of them much to recommend them,\" replied he; \"they are all silly and ignorant like other girls; but Lizzy has something more of quickness than her sisters.\"\n",
    "\n",
    "\"Mr. Bennet, how can you abuse your own children in such a way? You take delight in vexing me. You have no compassion for my poor nerves.\"\n",
    "\n",
    "\"You mistake me, my dear. I have a high respect for your nerves. They are my old friends. I have heard you mention them with consideration these last twenty years at least.\"\n",
    "\n",
    "\"Ah, you do not know what I suffer.\"\n",
    "\n",
    "\"But I hope you will get over it, and live to see many young men of four thousand a year come into the neighbourhood.\"\n",
    "\n",
    "\"It will be no use to us, if twenty such should come, since you will not visit them.\"\n",
    "\n",
    "\"Depend upon it, my dear, that when there are twenty, I will visit them all.\"\n",
    "\n",
    "Mr. Bennet was so odd a mixture of quick parts, sarcastic humour, reserve, and caprice, that the experience of three-and-twenty years had been insufficient to make his wife understand his character. Her mind was less difficult to develop. She was a woman of mean understanding, little information, and uncertain temper. When she was discontented, she fancied herself nervous. The business of her life was to get her daughters married; its solace was visiting and news. \n",
    "\"\"\"\n",
    "multi_line_str"
   ]
  },
  {
   "cell_type": "code",
   "execution_count": 63,
   "metadata": {},
   "outputs": [
    {
     "data": {
      "text/plain": [
       "'It is a truth universally acknowledged, that a single man in possession of a good fortune, must be in want of a wife.However little known the feelings or views of such a man may be on his first entering a neighbourhood, this truth is so well fixed in the minds of the surrounding families, that he is considered the rightful property of some one or other of their daughters.\"My dear Mr. Bennet,\" said his lady to him one day, \"have you heard that Netherfield Park is let at last?\"Mr. Bennet replied that he had not.\"But it is,\" returned she; \"for Mrs. Long has just been here, and she told me all about it.\"Mr. Bennet made no answer.\"Do you not want to know who has taken it?\" cried his wife impatiently.\"You want to tell me, and I have no objection to hearing it.\"This was invitation enough.\"Why, my dear, you must know, Mrs. Long says that Netherfield is taken by a young man of large fortune from the north of England; that he came down on Monday in a chaise and four to see the place, and was so much delighted with it, that he agreed with Mr. Morris immediately; that he is to take possession before Michaelmas, and some of his servants are to be in the house by the end of next week.\"\"What is his name?\"\"Bingley.\"\"Is he married or single?\"\"Oh! Single, my dear, to be sure! A single man of large fortune; four or five thousand a year. What a fine thing for our girls!\"\"How so? How can it affect them?\"\"My dear Mr. Bennet,\" replied his wife, \"how can you be so tiresome! You must know that I am thinking of his marrying one of them.\"\"Is that his design in settling here?\"\"Design! Nonsense, how can you talk so! But it is very likely that he may fall in love with one of them, and therefore you must visit him as soon as he comes.\"\"I see no occasion for that. You and the girls may go, or you may send them by themselves, which perhaps will be still better, for as you are as handsome as any of them, Mr. Bingley may like you the best of the party.\"\"My dear, you flatter me. I certainly have had my share of beauty, but I do not pretend to be anything extraordinary now. When a woman has five grown-up daughters, she ought to give over thinking of her own beauty.\"\"In such cases, a woman has not often much beauty to think of.\"\"But, my dear, you must indeed go and see Mr. Bingley when he comes into the neighbourhood.\"\"It is more than I engage for, I assure you.\"\"But consider your daughters. Only think what an establishment it would be for one of them. Sir William and Lady Lucas are determined to go, merely on that account, for in general, you know, they visit no newcomers. Indeed you must go, for it will be impossible for us to visit him if you do not.\"\"You are over-scrupulous, surely. I dare say Mr. Bingley will be very glad to see you; and I will send a few lines by you to assure him of my hearty consent to his marrying whichever he chooses of the girls; though I must throw in a good word for my little Lizzy.\"\"I desire you will do no such thing. Lizzy is not a bit better than the others; and I am sure she is not half so handsome as Jane, nor half so good-humoured as Lydia. But you are always giving her the preference.\"\"They have none of them much to recommend them,\" replied he; \"they are all silly and ignorant like other girls; but Lizzy has something more of quickness than her sisters.\"\"Mr. Bennet, how can you abuse your own children in such a way? You take delight in vexing me. You have no compassion for my poor nerves.\"\"You mistake me, my dear. I have a high respect for your nerves. They are my old friends. I have heard you mention them with consideration these last twenty years at least.\"\"Ah, you do not know what I suffer.\"\"But I hope you will get over it, and live to see many young men of four thousand a year come into the neighbourhood.\"\"It will be no use to us, if twenty such should come, since you will not visit them.\"\"Depend upon it, my dear, that when there are twenty, I will visit them all.\"Mr. Bennet was so odd a mixture of quick parts, sarcastic humour, reserve, and caprice, that the experience of three-and-twenty years had been insufficient to make his wife understand his character. Her mind was less difficult to develop. She was a woman of mean understanding, little information, and uncertain temper. When she was discontented, she fancied herself nervous. The business of her life was to get her daughters married; its solace was visiting and news. '"
      ]
     },
     "execution_count": 63,
     "metadata": {},
     "output_type": "execute_result"
    }
   ],
   "source": [
    "# remove \\n\n",
    "multi_line_str = multi_line_str.replace('\\n', '')\n",
    "multi_line_str"
   ]
  },
  {
   "cell_type": "code",
   "execution_count": 64,
   "metadata": {},
   "outputs": [
    {
     "data": {
      "text/plain": [
       "'It is a truth universally acknowledged that a single man in possession of a good fortune must be in want of a wifeHowever little known the feelings or views of such a man may be on his first entering a neighbourhood this truth is so well fixed in the minds of the surrounding families that he is considered the rightful property of some one or other of their daughtersMy dear Mr Bennet said his lady to him one day have you heard that Netherfield Park is let at lastMr Bennet replied that he had notBut it is returned she for Mrs Long has just been here and she told me all about itMr Bennet made no answerDo you not want to know who has taken it cried his wife impatientlyYou want to tell me and I have no objection to hearing itThis was invitation enoughWhy my dear you must know Mrs Long says that Netherfield is taken by a young man of large fortune from the north of England that he came down on Monday in a chaise and four to see the place and was so much delighted with it that he agreed with Mr Morris immediately that he is to take possession before Michaelmas and some of his servants are to be in the house by the end of next weekWhat is his nameBingleyIs he married or singleOh Single my dear to be sure A single man of large fortune four or five thousand a year What a fine thing for our girlsHow so How can it affect themMy dear Mr Bennet replied his wife how can you be so tiresome You must know that I am thinking of his marrying one of themIs that his design in settling hereDesign Nonsense how can you talk so But it is very likely that he may fall in love with one of them and therefore you must visit him as soon as he comesI see no occasion for that You and the girls may go or you may send them by themselves which perhaps will be still better for as you are as handsome as any of them Mr Bingley may like you the best of the partyMy dear you flatter me I certainly have had my share of beauty but I do not pretend to be anything extraordinary now When a woman has five grownup daughters she ought to give over thinking of her own beautyIn such cases a woman has not often much beauty to think ofBut my dear you must indeed go and see Mr Bingley when he comes into the neighbourhoodIt is more than I engage for I assure youBut consider your daughters Only think what an establishment it would be for one of them Sir William and Lady Lucas are determined to go merely on that account for in general you know they visit no newcomers Indeed you must go for it will be impossible for us to visit him if you do notYou are overscrupulous surely I dare say Mr Bingley will be very glad to see you and I will send a few lines by you to assure him of my hearty consent to his marrying whichever he chooses of the girls though I must throw in a good word for my little LizzyI desire you will do no such thing Lizzy is not a bit better than the others and I am sure she is not half so handsome as Jane nor half so goodhumoured as Lydia But you are always giving her the preferenceThey have none of them much to recommend them replied he they are all silly and ignorant like other girls but Lizzy has something more of quickness than her sistersMr Bennet how can you abuse your own children in such a way You take delight in vexing me You have no compassion for my poor nervesYou mistake me my dear I have a high respect for your nerves They are my old friends I have heard you mention them with consideration these last twenty years at leastAh you do not know what I sufferBut I hope you will get over it and live to see many young men of four thousand a year come into the neighbourhoodIt will be no use to us if twenty such should come since you will not visit themDepend upon it my dear that when there are twenty I will visit them allMr Bennet was so odd a mixture of quick parts sarcastic humour reserve and caprice that the experience of threeandtwenty years had been insufficient to make his wife understand his character Her mind was less difficult to develop She was a woman of mean understanding little information and uncertain temper When she was discontented she fancied herself nervous The business of her life was to get her daughters married its solace was visiting and news '"
      ]
     },
     "execution_count": 64,
     "metadata": {},
     "output_type": "execute_result"
    }
   ],
   "source": [
    "# remove punctuation\n",
    "multi_line_str.translate(str.maketrans('', '', string.punctuation))"
   ]
  },
  {
   "cell_type": "code",
   "execution_count": 65,
   "metadata": {},
   "outputs": [
    {
     "data": {
      "text/plain": [
       "{'it': 6,\n",
       " 'is': 11,\n",
       " 'a': 21,\n",
       " 'truth': 2,\n",
       " 'universally': 1,\n",
       " 'acknowledged,': 1,\n",
       " 'that': 14,\n",
       " 'single': 2,\n",
       " 'man': 4,\n",
       " 'in': 11,\n",
       " 'possession': 2,\n",
       " 'of': 28,\n",
       " 'good': 2,\n",
       " 'fortune,': 1,\n",
       " 'must': 7,\n",
       " 'be': 11,\n",
       " 'want': 3,\n",
       " 'wife.however': 1,\n",
       " 'little': 3,\n",
       " 'known': 1,\n",
       " 'the': 18,\n",
       " 'feelings': 1,\n",
       " 'or': 5,\n",
       " 'views': 1,\n",
       " 'such': 5,\n",
       " 'may': 5,\n",
       " 'on': 3,\n",
       " 'his': 11,\n",
       " 'first': 1,\n",
       " 'entering': 1,\n",
       " 'neighbourhood,': 1,\n",
       " 'this': 1,\n",
       " 'so': 6,\n",
       " 'well': 1,\n",
       " 'fixed': 1,\n",
       " 'minds': 1,\n",
       " 'surrounding': 1,\n",
       " 'families,': 1,\n",
       " 'he': 10,\n",
       " 'considered': 1,\n",
       " 'rightful': 1,\n",
       " 'property': 1,\n",
       " 'some': 2,\n",
       " 'one': 5,\n",
       " 'other': 2,\n",
       " 'their': 1,\n",
       " 'daughters.\"my': 1,\n",
       " 'dear': 2,\n",
       " 'mr.': 6,\n",
       " 'bennet,\"': 2,\n",
       " 'said': 1,\n",
       " 'lady': 2,\n",
       " 'to': 22,\n",
       " 'him': 4,\n",
       " 'day,': 1,\n",
       " '\"have': 1,\n",
       " 'you': 26,\n",
       " 'heard': 2,\n",
       " 'netherfield': 2,\n",
       " 'park': 1,\n",
       " 'let': 1,\n",
       " 'at': 2,\n",
       " 'last?\"mr.': 1,\n",
       " 'bennet': 3,\n",
       " 'replied': 3,\n",
       " 'had': 3,\n",
       " 'not.\"but': 1,\n",
       " 'is,\"': 1,\n",
       " 'returned': 1,\n",
       " 'she;': 1,\n",
       " '\"for': 1,\n",
       " 'mrs.': 2,\n",
       " 'long': 2,\n",
       " 'has': 5,\n",
       " 'just': 1,\n",
       " 'been': 2,\n",
       " 'here,': 1,\n",
       " 'and': 16,\n",
       " 'she': 6,\n",
       " 'told': 1,\n",
       " 'me': 1,\n",
       " 'all': 2,\n",
       " 'about': 1,\n",
       " 'it.\"mr.': 1,\n",
       " 'made': 1,\n",
       " 'no': 7,\n",
       " 'answer.\"do': 1,\n",
       " 'not': 7,\n",
       " 'know': 3,\n",
       " 'who': 1,\n",
       " 'taken': 2,\n",
       " 'it?\"': 1,\n",
       " 'cried': 1,\n",
       " 'wife': 2,\n",
       " 'impatiently.\"you': 1,\n",
       " 'tell': 1,\n",
       " 'me,': 2,\n",
       " 'i': 15,\n",
       " 'have': 6,\n",
       " 'objection': 1,\n",
       " 'hearing': 1,\n",
       " 'it.\"this': 1,\n",
       " 'was': 8,\n",
       " 'invitation': 1,\n",
       " 'enough.\"why,': 1,\n",
       " 'my': 10,\n",
       " 'dear,': 5,\n",
       " 'know,': 2,\n",
       " 'says': 1,\n",
       " 'by': 4,\n",
       " 'young': 2,\n",
       " 'large': 2,\n",
       " 'fortune': 1,\n",
       " 'from': 1,\n",
       " 'north': 1,\n",
       " 'england;': 1,\n",
       " 'came': 1,\n",
       " 'down': 1,\n",
       " 'monday': 1,\n",
       " 'chaise': 1,\n",
       " 'four': 3,\n",
       " 'see': 5,\n",
       " 'place,': 1,\n",
       " 'much': 3,\n",
       " 'delighted': 1,\n",
       " 'with': 4,\n",
       " 'it,': 3,\n",
       " 'agreed': 1,\n",
       " 'morris': 1,\n",
       " 'immediately;': 1,\n",
       " 'take': 2,\n",
       " 'before': 1,\n",
       " 'michaelmas,': 1,\n",
       " 'servants': 1,\n",
       " 'are': 8,\n",
       " 'house': 1,\n",
       " 'end': 1,\n",
       " 'next': 1,\n",
       " 'week.\"\"what': 1,\n",
       " 'name?\"\"bingley.\"\"is': 1,\n",
       " 'married': 1,\n",
       " 'single?\"\"oh!': 1,\n",
       " 'single,': 1,\n",
       " 'sure!': 1,\n",
       " 'fortune;': 1,\n",
       " 'five': 2,\n",
       " 'thousand': 2,\n",
       " 'year.': 1,\n",
       " 'what': 3,\n",
       " 'fine': 1,\n",
       " 'thing': 1,\n",
       " 'for': 10,\n",
       " 'our': 1,\n",
       " 'girls!\"\"how': 1,\n",
       " 'so?': 1,\n",
       " 'how': 3,\n",
       " 'can': 4,\n",
       " 'affect': 1,\n",
       " 'them?\"\"my': 1,\n",
       " 'wife,': 1,\n",
       " '\"how': 1,\n",
       " 'tiresome!': 1,\n",
       " 'am': 2,\n",
       " 'thinking': 2,\n",
       " 'marrying': 2,\n",
       " 'them.\"\"is': 1,\n",
       " 'design': 1,\n",
       " 'settling': 1,\n",
       " 'here?\"\"design!': 1,\n",
       " 'nonsense,': 1,\n",
       " 'talk': 1,\n",
       " 'so!': 1,\n",
       " 'but': 4,\n",
       " 'very': 2,\n",
       " 'likely': 1,\n",
       " 'fall': 1,\n",
       " 'love': 1,\n",
       " 'them,': 2,\n",
       " 'therefore': 1,\n",
       " 'visit': 5,\n",
       " 'as': 7,\n",
       " 'soon': 1,\n",
       " 'comes.\"\"i': 1,\n",
       " 'occasion': 1,\n",
       " 'that.': 1,\n",
       " 'girls': 1,\n",
       " 'go,': 3,\n",
       " 'send': 2,\n",
       " 'them': 4,\n",
       " 'themselves,': 1,\n",
       " 'which': 1,\n",
       " 'perhaps': 1,\n",
       " 'will': 9,\n",
       " 'still': 1,\n",
       " 'better,': 1,\n",
       " 'handsome': 2,\n",
       " 'any': 1,\n",
       " 'bingley': 3,\n",
       " 'like': 2,\n",
       " 'best': 1,\n",
       " 'party.\"\"my': 1,\n",
       " 'flatter': 1,\n",
       " 'me.': 2,\n",
       " 'certainly': 1,\n",
       " 'share': 1,\n",
       " 'beauty,': 1,\n",
       " 'do': 4,\n",
       " 'pretend': 1,\n",
       " 'anything': 1,\n",
       " 'extraordinary': 1,\n",
       " 'now.': 1,\n",
       " 'when': 4,\n",
       " 'woman': 3,\n",
       " 'grown-up': 1,\n",
       " 'daughters,': 1,\n",
       " 'ought': 1,\n",
       " 'give': 1,\n",
       " 'over': 2,\n",
       " 'her': 6,\n",
       " 'own': 2,\n",
       " 'beauty.\"\"in': 1,\n",
       " 'cases,': 1,\n",
       " 'often': 1,\n",
       " 'beauty': 1,\n",
       " 'think': 2,\n",
       " 'of.\"\"but,': 1,\n",
       " 'indeed': 2,\n",
       " 'go': 1,\n",
       " 'comes': 1,\n",
       " 'into': 2,\n",
       " 'neighbourhood.\"\"it': 2,\n",
       " 'more': 2,\n",
       " 'than': 3,\n",
       " 'engage': 1,\n",
       " 'for,': 1,\n",
       " 'assure': 2,\n",
       " 'you.\"\"but': 1,\n",
       " 'consider': 1,\n",
       " 'your': 3,\n",
       " 'daughters.': 1,\n",
       " 'only': 1,\n",
       " 'an': 1,\n",
       " 'establishment': 1,\n",
       " 'would': 1,\n",
       " 'them.': 1,\n",
       " 'sir': 1,\n",
       " 'william': 1,\n",
       " 'lucas': 1,\n",
       " 'determined': 1,\n",
       " 'merely': 1,\n",
       " 'account,': 1,\n",
       " 'general,': 1,\n",
       " 'they': 2,\n",
       " 'newcomers.': 1,\n",
       " 'impossible': 1,\n",
       " 'us': 1,\n",
       " 'if': 2,\n",
       " 'not.\"\"you': 1,\n",
       " 'over-scrupulous,': 1,\n",
       " 'surely.': 1,\n",
       " 'dare': 1,\n",
       " 'say': 1,\n",
       " 'glad': 1,\n",
       " 'you;': 1,\n",
       " 'few': 1,\n",
       " 'lines': 1,\n",
       " 'hearty': 1,\n",
       " 'consent': 1,\n",
       " 'whichever': 1,\n",
       " 'chooses': 1,\n",
       " 'girls;': 2,\n",
       " 'though': 1,\n",
       " 'throw': 1,\n",
       " 'word': 1,\n",
       " 'lizzy.\"\"i': 1,\n",
       " 'desire': 1,\n",
       " 'thing.': 1,\n",
       " 'lizzy': 2,\n",
       " 'bit': 1,\n",
       " 'better': 1,\n",
       " 'others;': 1,\n",
       " 'sure': 1,\n",
       " 'half': 2,\n",
       " 'jane,': 1,\n",
       " 'nor': 1,\n",
       " 'good-humoured': 1,\n",
       " 'lydia.': 1,\n",
       " 'always': 1,\n",
       " 'giving': 1,\n",
       " 'preference.\"\"they': 1,\n",
       " 'none': 1,\n",
       " 'recommend': 1,\n",
       " 'them,\"': 1,\n",
       " 'he;': 1,\n",
       " '\"they': 1,\n",
       " 'silly': 1,\n",
       " 'ignorant': 1,\n",
       " 'something': 1,\n",
       " 'quickness': 1,\n",
       " 'sisters.\"\"mr.': 1,\n",
       " 'bennet,': 1,\n",
       " 'abuse': 1,\n",
       " 'children': 1,\n",
       " 'way?': 1,\n",
       " 'delight': 1,\n",
       " 'vexing': 1,\n",
       " 'compassion': 1,\n",
       " 'poor': 1,\n",
       " 'nerves.\"\"you': 1,\n",
       " 'mistake': 1,\n",
       " 'dear.': 1,\n",
       " 'high': 1,\n",
       " 'respect': 1,\n",
       " 'nerves.': 1,\n",
       " 'old': 1,\n",
       " 'friends.': 1,\n",
       " 'mention': 1,\n",
       " 'consideration': 1,\n",
       " 'these': 1,\n",
       " 'last': 1,\n",
       " 'twenty': 2,\n",
       " 'years': 2,\n",
       " 'least.\"\"ah,': 1,\n",
       " 'suffer.\"\"but': 1,\n",
       " 'hope': 1,\n",
       " 'get': 2,\n",
       " 'live': 1,\n",
       " 'many': 1,\n",
       " 'men': 1,\n",
       " 'year': 1,\n",
       " 'come': 1,\n",
       " 'use': 1,\n",
       " 'us,': 1,\n",
       " 'should': 1,\n",
       " 'come,': 1,\n",
       " 'since': 1,\n",
       " 'them.\"\"depend': 1,\n",
       " 'upon': 1,\n",
       " 'there': 1,\n",
       " 'twenty,': 1,\n",
       " 'all.\"mr.': 1,\n",
       " 'odd': 1,\n",
       " 'mixture': 1,\n",
       " 'quick': 1,\n",
       " 'parts,': 1,\n",
       " 'sarcastic': 1,\n",
       " 'humour,': 1,\n",
       " 'reserve,': 1,\n",
       " 'caprice,': 1,\n",
       " 'experience': 1,\n",
       " 'three-and-twenty': 1,\n",
       " 'insufficient': 1,\n",
       " 'make': 1,\n",
       " 'understand': 1,\n",
       " 'character.': 1,\n",
       " 'mind': 1,\n",
       " 'less': 1,\n",
       " 'difficult': 1,\n",
       " 'develop.': 1,\n",
       " 'mean': 1,\n",
       " 'understanding,': 1,\n",
       " 'information,': 1,\n",
       " 'uncertain': 1,\n",
       " 'temper.': 1,\n",
       " 'discontented,': 1,\n",
       " 'fancied': 1,\n",
       " 'herself': 1,\n",
       " 'nervous.': 1,\n",
       " 'business': 1,\n",
       " 'life': 1,\n",
       " 'daughters': 1,\n",
       " 'married;': 1,\n",
       " 'its': 1,\n",
       " 'solace': 1,\n",
       " 'visiting': 1,\n",
       " 'news.': 1}"
      ]
     },
     "execution_count": 65,
     "metadata": {},
     "output_type": "execute_result"
    }
   ],
   "source": [
    "# count\n",
    "word_count = {}\n",
    "\n",
    "for word in multi_line_str.split(' '):\n",
    "    word = word.lower()\n",
    "    if word != '':\n",
    "        if word in word_count:\n",
    "            word_count[word]  += 1\n",
    "        else:\n",
    "            word_count[word]  = 1\n",
    "        \n",
    "word_count"
   ]
  },
  {
   "cell_type": "code",
   "execution_count": 68,
   "metadata": {},
   "outputs": [
    {
     "data": {
      "text/plain": [
       "[('of', 28),\n",
       " ('you', 26),\n",
       " ('to', 22),\n",
       " ('a', 21),\n",
       " ('the', 18),\n",
       " ('and', 16),\n",
       " ('i', 15),\n",
       " ('that', 14),\n",
       " ('is', 11),\n",
       " ('in', 11),\n",
       " ('be', 11),\n",
       " ('his', 11),\n",
       " ('he', 10),\n",
       " ('my', 10),\n",
       " ('for', 10),\n",
       " ('will', 9),\n",
       " ('was', 8),\n",
       " ('are', 8),\n",
       " ('must', 7),\n",
       " ('no', 7),\n",
       " ('not', 7),\n",
       " ('as', 7),\n",
       " ('it', 6),\n",
       " ('so', 6),\n",
       " ('mr.', 6)]"
      ]
     },
     "execution_count": 68,
     "metadata": {},
     "output_type": "execute_result"
    }
   ],
   "source": [
    "from itertools import islice\n",
    "\n",
    "# sorted\n",
    "sorted_word_count = sorted(word_count.items(), key=lambda key_val_tuple: key_val_tuple[1], reverse=True)\n",
    "sorted_word_count[:25]"
   ]
  },
  {
   "cell_type": "code",
   "execution_count": null,
   "metadata": {},
   "outputs": [],
   "source": []
  }
 ],
 "metadata": {
  "kernelspec": {
   "display_name": "Python 3",
   "language": "python",
   "name": "python3"
  },
  "language_info": {
   "codemirror_mode": {
    "name": "ipython",
    "version": 3
   },
   "file_extension": ".py",
   "mimetype": "text/x-python",
   "name": "python",
   "nbconvert_exporter": "python",
   "pygments_lexer": "ipython3",
   "version": "3.7.3"
  }
 },
 "nbformat": 4,
 "nbformat_minor": 2
}
