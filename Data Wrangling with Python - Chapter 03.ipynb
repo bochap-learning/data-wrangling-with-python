{
 "cells": [
  {
   "cell_type": "markdown",
   "metadata": {},
   "source": [
    "# Data Wrangling with Python\n",
    "\n",
    "## Introduction to NumPy, Pandas, and Matplotlib\n",
    "\n",
    "In this section, we will be introduced to 3 libraries that are commonly used in Data Wrangling.\n",
    "\n",
    "1. NumPy\n",
    "NumPy is a fundamental package for scientific computing with Python. It contains among other things:\n",
    "- a powerful N-dimensional array object\n",
    "- sophisticated (broadcasting) functions\n",
    "- tools for integrating C/C++ and Fortran code\n",
    "- useful linear algebra, Fourier transform, and random number capabilities\n",
    "\n",
    "Besides its obvious scientific uses, NumPy can also be used as an efficient multi-dimensional container of generic data. Arbitrary data-types can be defined. This allows NumPy to seamlessly and speedily integrate with a wide variety of database\n",
    "2. Pandas\n",
    "pandas is an open source, BSD-licensed library providing high-performance, easy-to-use data structures and data analysis tools for the Python programming language.\n",
    "3. Matplotlib\n",
    "Matplotlib is a Python 2D plotting library which produces publication quality figures in a variety of hardcopy formats and interactive environments across platforms. Matplotlib can be used in Python scripts, the Python and IPython shells, the Jupyter notebook, web application servers, and four graphical user interface toolkits.\n",
    "\n",
    "Matplotlib tries to make easy things easy and hard things possible. You can generate plots, histograms, power spectra, bar charts, errorcharts, scatterplots, etc., with just a few lines of code. For examples, see the sample plots and thumbnail gallery.\n",
    "\n",
    "For simple plotting the pyplot module provides a MATLAB-like interface, particularly when combined with IPython. For the power user, you have full control of line styles, font properties, axes properties, etc, via an object oriented interface or via a set of functions familiar to MATLAB users.\n",
    "\n",
    "### NumPy\n",
    "\n",
    "#### NumPy Arrays\n",
    "NumPy Arrays is a data structure/class at the heart of the NumPy package that provides an implementation to store and manipulate one-dimensional or multi-dimensional data. It is also the fundamental building block of advanced strucures like the DataFrame in pandas.\n",
    "\n",
    "It appears to look the same as the common Python lists but provides functionality that is not found in the Python lists. One biggest difference is that NumPy arrays are built for vectorized operations that process a lot of numerical data with just a single line of code. Many of the built-in mathematical functions are implemented in low-level languages such as C or Fortran and pre-compiled for performance.\n",
    "\n",
    "> Note NumPy arrays are optimized data structures for numerical analysis.\n",
    "\n",
    "##### NumPy Array Creation"
   ]
  },
  {
   "cell_type": "code",
   "execution_count": 1,
   "metadata": {},
   "outputs": [
    {
     "name": "stdout",
     "output_type": "stream",
     "text": [
      "array_1: [1 2 3]\n",
      "type(array_1): <class 'numpy.ndarray'>\n",
      "array_1_1: [4 5 6]\n",
      "type(array_1_1): <class 'numpy.ndarray'>\n",
      "a: array('d', [1.2, 3.4, 5.6])\n",
      "type(a): <class 'array.array'>\n"
     ]
    }
   ],
   "source": [
    "%matplotlib inline\n",
    "import numpy as np\n",
    "import array as arr\n",
    "import pandas as pd\n",
    "import matplotlib.pyplot as plt\n",
    "\n",
    "list_1 = [ 1, 2, 3 ]\n",
    "\n",
    "# Creating a NumPy array from a list\n",
    "array_1 = np.array(list_1)\n",
    "print(f'array_1: {array_1}')\n",
    "print(f'type(array_1): {type(array_1)}')\n",
    "\n",
    "# Creating a NumPy array from variable initialization\n",
    "array_1_1 = np.array([ 4, 5, 6 ])\n",
    "print(f'array_1_1: {array_1_1}')\n",
    "print(f'type(array_1_1): {type(array_1_1)}')\n",
    "\n",
    "# Creating an array from variable initialization\n",
    "a = arr.array('d', [ 1.2, 3.4, 5.6 ])\n",
    "print(f'a: {a}')\n",
    "print(f'type(a): {type(a)}')"
   ]
  },
  {
   "cell_type": "markdown",
   "metadata": {},
   "source": [
    "##### NumPy Array Manipulation\n",
    "\n",
    "###### NumPy Array Addition\n",
    "NumPy Array performs element wise addition when adding one array to another.\n",
    "\n",
    "| &nbsp; | Array 1 | + | Array 2 | = | Result |\n",
    "|---:|:---:|:---:|:---:|:---:|:---:|\n",
    "| Index 0 | 1 | &nbsp; | 1 | &nbsp; | 2  |\n",
    "| Index 1 | 2 | + | 2 | = | 4  |\n",
    "| Index 1 | 3 | &nbsp; | 3 | &nbsp; | 6  |"
   ]
  },
  {
   "cell_type": "code",
   "execution_count": 2,
   "metadata": {},
   "outputs": [
    {
     "name": "stdout",
     "output_type": "stream",
     "text": [
      "list_1 + list_1: [1, 2, 3, 1, 2, 3]\n",
      "array_1 added array_1: [2 4 6]\n"
     ]
    }
   ],
   "source": [
    "# Adding lists\n",
    "list_2 = list_1 + list_1\n",
    "print(f'list_1 + list_1: {list_2}')\n",
    "\n",
    "# Adding NumPy Array\n",
    "array_2 = array_1 + array_1\n",
    "print(f'array_1 added array_1: {array_2}')"
   ]
  },
  {
   "cell_type": "markdown",
   "metadata": {},
   "source": [
    "###### NumPy Array Subtraction\n",
    "NumPy Array performs element wise subtraction when subtracting one array from another.\n",
    "\n",
    "| &nbsp; | Array 1 | - | Array 2 | = | Result |\n",
    "|---:|:---:|:---:|:---:|:---:|:---:|\n",
    "| Index 0 | 1 | &nbsp; | 1 | &nbsp; | 0  |\n",
    "| Index 1 | 2 | - | 2 | = | 0  |\n",
    "| Index 1 | 3 | &nbsp; | 3 | &nbsp; | 0  |"
   ]
  },
  {
   "cell_type": "code",
   "execution_count": 3,
   "metadata": {},
   "outputs": [
    {
     "name": "stdout",
     "output_type": "stream",
     "text": [
      "array_1 subtracted from array_1: [0 0 0]\n"
     ]
    }
   ],
   "source": [
    "# Subtracing NumPy Array\n",
    "print(f'array_1 subtracted from array_1: {array_1 - array_1}')"
   ]
  },
  {
   "cell_type": "markdown",
   "metadata": {},
   "source": [
    "###### NumPy Array Multiplication\n",
    "NumPy Array performs element wise multiplication when multiplying one array from another.\n",
    "\n",
    "| &nbsp; | Array 1 | X | Array 2 | = | Result |\n",
    "|---:|:---:|:---:|:---:|:---:|:---:|\n",
    "| Index 0 | 1 | &nbsp; | 1 | &nbsp; | 1  |\n",
    "| Index 1 | 2 | X | 2 | = | 4  |\n",
    "| Index 1 | 3 | &nbsp; | 3 | &nbsp; | 9  |"
   ]
  },
  {
   "cell_type": "code",
   "execution_count": 4,
   "metadata": {},
   "outputs": [
    {
     "name": "stdout",
     "output_type": "stream",
     "text": [
      "array_1 multiple array_1: [1 4 9]\n"
     ]
    }
   ],
   "source": [
    "# Multiple NumPy Array\n",
    "print(f'array_1 multiple array_1: {array_1 * array_1}')"
   ]
  },
  {
   "cell_type": "markdown",
   "metadata": {},
   "source": [
    "###### NumPy Array Division\n",
    "NumPy Array performs element wise division when dividing one array from another.\n",
    "\n",
    "| &nbsp; | Array 1 | / | Array 2 | = | Result |\n",
    "|---:|:---:|:---:|:---:|:---:|:---:|\n",
    "| Index 0 | 1 | &nbsp; | 1 | &nbsp; | 1.0  |\n",
    "| Index 1 | 2 | / | 2 | = | 1.0  |\n",
    "| Index 1 | 3 | &nbsp; | 3 | &nbsp; | 1.0  |"
   ]
  },
  {
   "cell_type": "code",
   "execution_count": 5,
   "metadata": {},
   "outputs": [
    {
     "name": "stdout",
     "output_type": "stream",
     "text": [
      "array_1 divided by array_1: [1. 1. 1.]\n"
     ]
    }
   ],
   "source": [
    "# Divide NumPy Array\n",
    "print(f'array_1 divided by array_1: {array_1 / array_1}')"
   ]
  },
  {
   "cell_type": "markdown",
   "metadata": {},
   "source": [
    "###### NumPy Array Raise Power\n",
    "NumPy Array raise the power in an element wise manner.\n",
    "\n",
    "| &nbsp; | Array 1 | ** | Array 2 | = | Result |\n",
    "|---:|:---:|:---:|:---:|:---:|:---:|\n",
    "| Index 0 | 1 | &nbsp; | 1 | &nbsp; | 1  |\n",
    "| Index 1 | 2 | ** | 2 | = | 4  |\n",
    "| Index 1 | 3 | &nbsp; | 3 | &nbsp; | 27  |"
   ]
  },
  {
   "cell_type": "code",
   "execution_count": 6,
   "metadata": {},
   "outputs": [
    {
     "name": "stdout",
     "output_type": "stream",
     "text": [
      "array_1 raised to the power of array_1: [ 1  4 27]\n"
     ]
    }
   ],
   "source": [
    "# Raise one array to the power indicated in the second array element\n",
    "print(f'array_1 raised to the power of array_1: {array_1 ** array_1}')"
   ]
  },
  {
   "cell_type": "markdown",
   "metadata": {},
   "source": [
    "#### Advanced Mathematical Operations on NumPy Arrays\n",
    "\n",
    "NumPy supports many mathematical calculations using its built-in functions. This section will go through some of the advanced mathematical operations on the array."
   ]
  },
  {
   "cell_type": "code",
   "execution_count": 7,
   "metadata": {},
   "outputs": [
    {
     "name": "stdout",
     "output_type": "stream",
     "text": [
      "[1, 2, 3, 4, 5]\n",
      "[1 2 3 4 5]\n"
     ]
    }
   ],
   "source": [
    "# Create a new list with 5 elemements\n",
    "list_5 = [ i for i in range(1, 6) ]\n",
    "print(list_5)\n",
    "\n",
    "# Convert the list into a NumPy array\n",
    "array_5 = np.array(list_5)\n",
    "print(array_5)"
   ]
  },
  {
   "cell_type": "markdown",
   "metadata": {},
   "source": [
    "##### Sine operation on array\n",
    "Sine operations are perform element wise on the NumPy array"
   ]
  },
  {
   "cell_type": "code",
   "execution_count": 8,
   "metadata": {},
   "outputs": [
    {
     "name": "stdout",
     "output_type": "stream",
     "text": [
      "Sine: [ 0.84147098  0.90929743  0.14112001 -0.7568025  -0.95892427]\n"
     ]
    }
   ],
   "source": [
    "print(f'Sine: { np.sin(array_5) }')"
   ]
  },
  {
   "cell_type": "markdown",
   "metadata": {},
   "source": [
    "##### Logarithmic operation on array\n",
    "Logarithmic operations are perform element wise on NumPy array"
   ]
  },
  {
   "cell_type": "code",
   "execution_count": 9,
   "metadata": {},
   "outputs": [
    {
     "name": "stdout",
     "output_type": "stream",
     "text": [
      "Natural logarithm: [0.         0.69314718 1.09861229 1.38629436 1.60943791]\n",
      "Base-10 logarithm: [0.         0.30103    0.47712125 0.60205999 0.69897   ]\n",
      "Base-2 logarithm: [0.         1.         1.5849625  2.         2.32192809]\n"
     ]
    }
   ],
   "source": [
    "# logarithmic\n",
    "print(f'Natural logarithm: {np.log(array_5)}')\n",
    "print(f'Base-10 logarithm: {np.log10(array_5)}')\n",
    "print(f'Base-2 logarithm: {np.log2(array_5)}')"
   ]
  },
  {
   "cell_type": "markdown",
   "metadata": {},
   "source": [
    "##### Exponential operation on array\n",
    "Exponential operations are perform element wise on NumPy array"
   ]
  },
  {
   "cell_type": "code",
   "execution_count": 10,
   "metadata": {},
   "outputs": [
    {
     "name": "stdout",
     "output_type": "stream",
     "text": [
      "Exponential: [  2.71828183   7.3890561   20.08553692  54.59815003 148.4131591 ]\n"
     ]
    }
   ],
   "source": [
    "# exponential\n",
    "print(f'Exponential: {np.exp(array_5)}')"
   ]
  },
  {
   "cell_type": "markdown",
   "metadata": {},
   "source": [
    "#### Generating arrays using Arange and Linspace\n",
    "The Arange function generates an array of evenly spaced values with a given interval including the supplied start value but excluding the stop value (This is know as the half open interval). The Linspace function creates a series of evenly spaced numbers of intermediate points between two extremes"
   ]
  },
  {
   "cell_type": "code",
   "execution_count": 11,
   "metadata": {},
   "outputs": [
    {
     "name": "stdout",
     "output_type": "stream",
     "text": [
      "A series of numbers: [ 5  6  7  8  9 10 11 12 13 14 15]\n",
      "A series of numbers spaced by 2: [ 5  7  9 11 13 15]\n",
      "A series of numbers spaced by floating point number: [ 5.   7.5 10.  12.5 15. ]\n",
      "Every 5th number from 30 in reverse order: [30 25 20 15 10  5  0]\n",
      "11 linearly spaced numbers between 1 and 5: [1.  1.4 1.8 2.2 2.6 3.  3.4 3.8 4.2 4.6 5. ]\n"
     ]
    }
   ],
   "source": [
    "# arange\n",
    "print(f'A series of numbers: {np.arange(5, 16)}')\n",
    "print(f'A series of numbers spaced by 2: {np.arange(5, 16, 2)}')\n",
    "print(f'A series of numbers spaced by floating point number: {np.arange(5, 16, 2.5)}')\n",
    "print(f'Every 5th number from 30 in reverse order: {np.arange(30, -1, -5)}')\n",
    "\n",
    "# linear\n",
    "print(f'11 linearly spaced numbers between 1 and 5: {np.linspace(1, 5, 11)}')"
   ]
  },
  {
   "cell_type": "markdown",
   "metadata": {},
   "source": [
    "##### Creating Multi-Dimensional Arrays\n",
    "NumPy arrays can be multi-dimensional (like a matrix used in linear algebra)"
   ]
  },
  {
   "cell_type": "code",
   "execution_count": 12,
   "metadata": {},
   "outputs": [
    {
     "name": "stdout",
     "output_type": "stream",
     "text": [
      "Type/ Class of this object: <class 'numpy.ndarray'>\n",
      "Here is the matrix\n",
      "----------\n",
      "[[1 2 3]\n",
      " [4 5 6]\n",
      " [7 8 9]]\n",
      "----------\n"
     ]
    }
   ],
   "source": [
    "# multi-dimensional array creation using list of list\n",
    "list_2D = [[1, 2, 3], [4, 5, 6], [7, 8, 9]]\n",
    "mat1 = np.array(list_2D)\n",
    "\n",
    "print(f'Type/ Class of this object: {type(mat1)}')\n",
    "print(f'Here is the matrix\\n----------\\n{mat1}\\n----------')"
   ]
  },
  {
   "cell_type": "code",
   "execution_count": 13,
   "metadata": {},
   "outputs": [
    {
     "name": "stdout",
     "output_type": "stream",
     "text": [
      "Here is the matrix\n",
      "----------\n",
      "[[1.5 2.  3. ]\n",
      " [4.  5.  6. ]]\n",
      "----------\n"
     ]
    }
   ],
   "source": [
    "# multi-dimensional array creation using tuples\n",
    "tuple_2D = np.array([(1.5, 2, 3), (4, 5, 6)])\n",
    "mat_tuple = np.array(tuple_2D)\n",
    "print(f'Here is the matrix\\n----------\\n{mat_tuple}\\n----------')"
   ]
  },
  {
   "cell_type": "markdown",
   "metadata": {},
   "source": [
    "##### The Dimension, Shape, Size, and Data Type of the Two-Dimensional Array\n",
    "NumPy arrays provide methods to obtain the dimension, shape and size"
   ]
  },
  {
   "cell_type": "code",
   "execution_count": 14,
   "metadata": {},
   "outputs": [
    {
     "name": "stdout",
     "output_type": "stream",
     "text": [
      "Dimension of this matrix: 2\n",
      "Size of this matrix: 6\n",
      "Shape of this matrix: (2, 3)\n",
      "Data type of this matrix: float64\n"
     ]
    }
   ],
   "source": [
    "# ndim\n",
    "print(f'Dimension of this matrix: {mat_tuple.ndim}')\n",
    "\n",
    "# size\n",
    "print(f'Size of this matrix: {mat_tuple.size}')\n",
    "\n",
    "# shape\n",
    "print(f'Shape of this matrix: {mat_tuple.shape}') # mat_tuple.shape prints (2, 3) which means it is a 2 rows x 3 columns matrix\n",
    "\n",
    "# dimensional type\n",
    "print(f'Data type of this matrix: {mat_tuple.dtype}')"
   ]
  },
  {
   "cell_type": "markdown",
   "metadata": {},
   "source": [
    "##### Zeros, Ones, Random, Identity Matrices and Vectors\n",
    "NumPy provides methods to create special matrices filled with zeros, ones, random numbers or ones in the diagonal"
   ]
  },
  {
   "cell_type": "code",
   "execution_count": 15,
   "metadata": {},
   "outputs": [
    {
     "name": "stdout",
     "output_type": "stream",
     "text": [
      "Vector of zeros: [0. 0. 0. 0. 0.]\n",
      "Matrix of zeros: [[0. 0. 0. 0.]\n",
      " [0. 0. 0. 0.]\n",
      " [0. 0. 0. 0.]]\n",
      "Matrix of 5's: [[5. 5. 5.]\n",
      " [5. 5. 5.]\n",
      " [5. 5. 5.]]\n",
      "identity matrix of dimension 2: [[1. 0.]\n",
      " [0. 1.]]\n",
      "identity matrix of dimension 4: [[1. 0. 0. 0.]\n",
      " [0. 1. 0. 0.]\n",
      " [0. 0. 1. 0.]\n",
      " [0. 0. 0. 1.]]\n",
      "Random matrix of shape (4, 5): [[ 5 10 30]\n",
      " [35 25 10]\n",
      " [20 35 40]\n",
      " [10 40 45]]\n"
     ]
    }
   ],
   "source": [
    "# vector of zeros creation\n",
    "print(f'Vector of zeros: {np.zeros(5)}')\n",
    "\n",
    "# matrix of zeros creation\n",
    "print(f'Matrix of zeros: {np.zeros((3, 4))}')\n",
    "\n",
    "# matrix of fives creation\n",
    "print(f'Matrix of 5\\'s: {5 * np.ones((3, 3))}')\n",
    "\n",
    "# identity matrix creation\n",
    "print(f'identity matrix of dimension 2: {np.eye(2)}')\n",
    "print(f'identity matrix of dimension 4: {np.eye(4)}')\n",
    "\n",
    "# matrix of randoms creation\n",
    "print(f'Random matrix of shape (4, 5): {5 * np.random.randint(low=1, high=10, size=(4, 3))}')"
   ]
  },
  {
   "cell_type": "markdown",
   "metadata": {},
   "source": [
    "##### Reshaping and Ravel\n",
    "\n",
    "Data might need to be transform into different shapes in order to be used in various processing Algorithms. NumPy provides the following functions to perform this transformation\n",
    "1. Reshaping - Gives a new shape to an array without changing its data\n",
    "2. Ravel - Return a contiguous flattened 1-D array, containing the elements of the input."
   ]
  },
  {
   "cell_type": "code",
   "execution_count": 16,
   "metadata": {},
   "outputs": [
    {
     "name": "stdout",
     "output_type": "stream",
     "text": [
      "Shape of a: (30,)\n",
      "Shape of b: (2, 3, 5)\n",
      "Shape of c: (6, 5)\n",
      "\n",
      "a: [48 70 35 97 38 43 45 40 34 24 98  2 19 31 30 95  1 38 40 73 35 55  1 57\n",
      " 79 31 92 47 25 95]\n",
      "\n",
      "\n",
      "b: [[[48 70 35 97 38]\n",
      "  [43 45 40 34 24]\n",
      "  [98  2 19 31 30]]\n",
      "\n",
      " [[95  1 38 40 73]\n",
      "  [35 55  1 57 79]\n",
      "  [31 92 47 25 95]]]\n",
      "\n",
      "\n",
      "c: [[48 70 35 97 38]\n",
      " [43 45 40 34 24]\n",
      " [98  2 19 31 30]\n",
      " [95  1 38 40 73]\n",
      " [35 55  1 57 79]\n",
      " [31 92 47 25 95]]\n",
      "\n"
     ]
    }
   ],
   "source": [
    "# array reshape\n",
    "a = np.random.randint(1, 100, 30)\n",
    "b = a.reshape(2, 3, 5) # 3 dimensional array (list of list of list)\n",
    "c = a.reshape(6, 5)\n",
    "\n",
    "print(f'Shape of a: {a.shape}')\n",
    "print(f'Shape of b: {b.shape}')\n",
    "print(f'Shape of c: {c.shape}')\n",
    "\n",
    "print(f'\\na: {a}\\n')\n",
    "print(f'\\nb: {b}\\n')\n",
    "print(f'\\nc: {c}\\n')"
   ]
  },
  {
   "cell_type": "code",
   "execution_count": 17,
   "metadata": {},
   "outputs": [
    {
     "name": "stdout",
     "output_type": "stream",
     "text": [
      "Shape of b_flat: (30,)\n",
      "\n",
      "b_flat: [48 70 35 97 38 43 45 40 34 24 98  2 19 31 30 95  1 38 40 73 35 55  1 57\n",
      " 79 31 92 47 25 95]\n",
      "\n"
     ]
    }
   ],
   "source": [
    "# array ravel\n",
    "b_flat = b.ravel()\n",
    "\n",
    "print(f'Shape of b_flat: {b_flat.shape}')\n",
    "\n",
    "print(f'\\nb_flat: {b_flat}\\n')"
   ]
  },
  {
   "cell_type": "markdown",
   "metadata": {},
   "source": [
    "##### Indexing and Slicing\n",
    "\n",
    "Indexing and slicing of NumPy arrays behave in a similar manner to regular list indexing. It also supports a custom definite step size with the slice syntax `start, stop, step`. Indexing and slicing can be performed on one-dimensional and multi-dimensional arrays.\n",
    "\n",
    "> In multi-dimensional arrays, multiple numbers are use to denote the position of an element. For example to access the element in the third row and secnod column, we used the indices 2 and 1"
   ]
  },
  {
   "cell_type": "code",
   "execution_count": 18,
   "metadata": {},
   "outputs": [
    {
     "name": "stdout",
     "output_type": "stream",
     "text": [
      "Array: [ 0  1  2  3  4  5  6  7  8  9 10]\n",
      "Elements at 7th index is: 7\n",
      "Elements from 3rd to 5th index are: [3 4 5]\n",
      "Elements up to 4th index are: [0 1 2 3]\n",
      "Elements from last backwards are: [10  9  8  7  6  5  4  3  2  1  0]\n",
      "3 Elements from last backwards are: [10  8  6]\n",
      "New array: [ 0  2  4  6  8 10 12 14 16 18 20]\n",
      "Elements at 2nd, 4th, and 9th index are: [ 4  8 18]\n",
      "Matrix of random 2-digit numbers\n",
      "[[82 53 95 55 99]\n",
      " [91 54 33 91 69]\n",
      " [80 72 15 22 94]]\n",
      "\n",
      "Double bracket indexing\n",
      "\n",
      "Element in row index 1 and column index 2: 33\n",
      "\n",
      "Single bracket with comma indexing\n",
      "\n",
      "Element in row index 1 and column index 2: 33\n",
      "\n",
      "Row or column extract\n",
      "\n",
      "Entire row at index 2: [80 72 15 22 94]\n",
      "Entire column at index 3: [55 91 22]\n",
      "\n",
      "Subsetting sub-matrices\n",
      "\n",
      "Matrix with row indices 1 and 2 and column indices 3 and 4\n",
      "[[91 69]\n",
      " [22 94]]\n",
      "Matrix with row indices 0 and 1 and column indices 1 and 3\n",
      "[[53 55]\n",
      " [54 91]]\n"
     ]
    }
   ],
   "source": [
    "array_1 = np.arange(0, 11)\n",
    "\n",
    "print(f'Array: {array_1}')\n",
    "\n",
    "print(f'Elements at 7th index is: {array_1[7]}')\n",
    "print(f'Elements from 3rd to 5th index are: {array_1[3:6]}')\n",
    "print(f'Elements up to 4th index are: {array_1[:4]}')\n",
    "print(f'Elements from last backwards are: {array_1[-1::-1]}')\n",
    "print(f'3 Elements from last backwards are: {array_1[-1:-6:-2]}')\n",
    "\n",
    "array_2 = np.arange(0, 21, 2)\n",
    "print(f'New array: {array_2}')\n",
    "print(f'Elements at 2nd, 4th, and 9th index are: {array_2[[2, 4, 9]]}')\n",
    "\n",
    "matrix_1 = np.random.randint(10, 100, 15).reshape(3, 5)\n",
    "print(f'Matrix of random 2-digit numbers\\n{matrix_1}')\n",
    "print('\\nDouble bracket indexing\\n')\n",
    "print(f'Element in row index 1 and column index 2: {matrix_1[1][2]}')\n",
    "print('\\nSingle bracket with comma indexing\\n')\n",
    "print(f'Element in row index 1 and column index 2: {matrix_1[1, 2]}')\n",
    "print('\\nRow or column extract\\n')\n",
    "print(f'Entire row at index 2: {matrix_1[2]}')\n",
    "print(f'Entire column at index 3: {matrix_1[:, 3]}')\n",
    "print('\\nSubsetting sub-matrices\\n')\n",
    "print(f'Matrix with row indices 1 and 2 and column indices 3 and 4\\n{matrix_1[1:3, 3:5]}')\n",
    "print(f'Matrix with row indices 0 and 1 and column indices 1 and 3\\n{matrix_1[0:2, [1,3]]}')"
   ]
  },
  {
   "cell_type": "markdown",
   "metadata": {},
   "source": [
    "##### Conditional Subsetting\n",
    "\n",
    "Conditional subsetting is a way to select specific elements based on some numeric condition. It is almost like a shorten version of a SQL query to subset elements."
   ]
  },
  {
   "cell_type": "code",
   "execution_count": 19,
   "metadata": {},
   "outputs": [
    {
     "name": "stdout",
     "output_type": "stream",
     "text": [
      "Matrix of random 2-digit numbers\n",
      "[[65 98 48 55 49]\n",
      " [88 30 76 86 76]\n",
      " [85 15 84 47 70]]\n",
      "Elements greater than 50\n",
      "[65 98 55 88 76 86 76 85 84 70]\n"
     ]
    }
   ],
   "source": [
    "matrix_1 = np.array(np.random.randint(10, 100, 15)).reshape(3, 5)\n",
    "print(f'Matrix of random 2-digit numbers\\n{matrix_1}')\n",
    "print(f'Elements greater than 50\\n{matrix_1[matrix_1 > 50]}')"
   ]
  },
  {
   "cell_type": "markdown",
   "metadata": {},
   "source": [
    "##### Array Operations (Array-Array, Array-Scalar, and Universal Functions)\n",
    "\n",
    "NumPy arrays operate just like mathematical matrices, and the operations are performed element-wise."
   ]
  },
  {
   "cell_type": "code",
   "execution_count": 20,
   "metadata": {},
   "outputs": [
    {
     "name": "stdout",
     "output_type": "stream",
     "text": [
      "\n",
      "1st Matrix of random single-digit numbers\n",
      "[[6 5 9]\n",
      " [9 8 5]\n",
      " [1 6 3]]\n",
      "\n",
      "2nd Matrix of random single-digit numbers\n",
      "[[6 1 3]\n",
      " [6 5 5]\n",
      " [7 1 2]]\n",
      "\n",
      "Addition\n",
      "[[12  6 12]\n",
      " [15 13 10]\n",
      " [ 8  7  5]]\n",
      "\n",
      "Subtraction\n",
      "[[ 0  4  6]\n",
      " [ 3  3  0]\n",
      " [-6  5  1]]\n",
      "\n",
      "Multiplication\n",
      "[[36  5 27]\n",
      " [54 40 25]\n",
      " [ 7  6  6]]\n",
      "\n",
      "Division\n",
      "[[1.         5.         3.        ]\n",
      " [1.5        1.6        1.        ]\n",
      " [0.14285714 6.         1.5       ]]\n",
      "\n",
      "Linear combination: 3 * A - 2 * B\n",
      "[[  6  13  21]\n",
      " [ 15  14   5]\n",
      " [-11  16   5]]\n",
      "\n",
      "Addition of a scalar (100)\n",
      "[[106 105 109]\n",
      " [109 108 105]\n",
      " [101 106 103]]\n",
      "\n",
      "Exponentiation, matrix cubed here\n",
      "[[216 125 729]\n",
      " [729 512 125]\n",
      " [  1 216  27]]\n",
      "\n",
      "Exponentiation, square root using 'pow' function\n",
      "[[2.44948974 2.23606798 3.        ]\n",
      " [3.         2.82842712 2.23606798]\n",
      " [1.         2.44948974 1.73205081]]\n"
     ]
    }
   ],
   "source": [
    "# Create 2 matrices\n",
    "matrix_1 = np.random.randint(1, 10, 9).reshape(3, 3)\n",
    "matrix_2 = np.random.randint(1, 10, 9).reshape(3, 3)\n",
    "\n",
    "print(f'\\n1st Matrix of random single-digit numbers\\n{matrix_1}')\n",
    "print(f'\\n2nd Matrix of random single-digit numbers\\n{matrix_2}')\n",
    "\n",
    "print(f'\\nAddition\\n{ matrix_1 + matrix_2 }')\n",
    "print(f'\\nSubtraction\\n{ matrix_1 - matrix_2 }')\n",
    "print(f'\\nMultiplication\\n{ matrix_1 * matrix_2 }')\n",
    "print(f'\\nDivision\\n{ matrix_1 / matrix_2 }')\n",
    "print(f'\\nLinear combination: 3 * A - 2 * B\\n{ 3 * matrix_1 - 2 * matrix_2 }')\n",
    "print(f'\\nAddition of a scalar (100)\\n{ 100 + matrix_1 }')\n",
    "print(f'\\nExponentiation, matrix cubed here\\n{ matrix_1 ** 3 }')\n",
    "print(f'\\nExponentiation, square root using \\'pow\\' function\\n{ pow(matrix_1, 0.5) }')"
   ]
  },
  {
   "cell_type": "markdown",
   "metadata": {},
   "source": [
    "##### Stacking Arrays\n",
    "\n",
    "Stacking arrays on top of each other (or side by side)\n",
    "1. vstack - Stack arrays in sequence vertically (row wise). This is equivalent to concatenation along the first axis after 1-D arrays of shape (N,) have been reshaped to (1,N). Rebuilds arrays divided by vsplit.\n",
    "2. hstack - Stack arrays in sequence horizontally (column wise). This is equivalent to concatenation along the second axis, except for 1-D arrays where it concatenates along the first axis. Rebuilds arrays divided by hsplit."
   ]
  },
  {
   "cell_type": "code",
   "execution_count": 21,
   "metadata": {},
   "outputs": [
    {
     "name": "stdout",
     "output_type": "stream",
     "text": [
      "Matrix a\n",
      "[[1 2]\n",
      " [3 4]]\n",
      "Matrix b\n",
      "[[5 6]\n",
      " [7 8]]\n",
      "Vertical stacking\n",
      "[[1 2]\n",
      " [3 4]\n",
      " [5 6]\n",
      " [7 8]]\n",
      "Horizontal stacking\n",
      "[[1 2 5 6]\n",
      " [3 4 7 8]]\n"
     ]
    }
   ],
   "source": [
    "a = np.array([ [ 1, 2 ], [ 3, 4 ] ])\n",
    "b = np.array([ [ 5, 6 ], [ 7, 8 ] ])\n",
    "\n",
    "print(f'Matrix a\\n{a}')\n",
    "print(f'Matrix b\\n{b}')\n",
    "print(f'Vertical stacking\\n{np.vstack((a,b))}')\n",
    "print(f'Horizontal stacking\\n{np.hstack((a,b))}')"
   ]
  },
  {
   "cell_type": "markdown",
   "metadata": {},
   "source": [
    "> Note: Both `list.sort` and `list.reverse` do sorting in place and modify the original list. And `list.sort` also accepts an optional `key` parameter that allows overriding the default sorting algorthim. `sorted(list)` supports similar parameters as `list.sort`. Using `sorted(list)` is preferred since it minimizes side effect. Although in use cases where side effect does not cause issue `list.sort` is recommended since it need to allocate a new list which is expensive, and if memory is restricted it becomes a bigger concern"
   ]
  },
  {
   "cell_type": "markdown",
   "metadata": {},
   "source": [
    "### Pandas\n",
    "\n",
    "#### Pandas Series and DataFrames\n",
    "Pandas is an open source, BSD-licensed library providing high-performance, easy-to-use data structures and data analysis tools for the Python programming language.\n",
    "\n",
    "There are 2 data structures that are vastly used to handle a majority of the use cases for data analysis and manipulation.\n",
    "\n",
    "1. Series - One-dimensional\n",
    "2. DataFrame - Two-Dimensional\n",
    "\n",
    "Pandas is built on top of NumPy providing equivalent performance through the low-level language implementation and ease of integration with other third-party libraries used in Data Wrangling.\n",
    "\n",
    "##### Creating a Pandas Series"
   ]
  },
  {
   "cell_type": "code",
   "execution_count": 22,
   "metadata": {},
   "outputs": [
    {
     "name": "stdout",
     "output_type": "stream",
     "text": [
      "Labels: ['a', 'b', 'c']\n",
      "My data: [10, 20, 30]\n",
      "Dictionary: {'a': 10, 'b': 20, 'c': 30}\n",
      "series_1: 0    10\n",
      "1    20\n",
      "2    30\n",
      "dtype: int64\n",
      "series_2: a    10\n",
      "b    20\n",
      "c    30\n",
      "dtype: int64\n",
      "series_3: a    10\n",
      "b    20\n",
      "c    30\n",
      "dtype: int64\n",
      "series_4: a    10\n",
      "b    20\n",
      "c    30\n",
      "dtype: int64\n"
     ]
    }
   ],
   "source": [
    "# Series creation using Pandas\n",
    "labels = [ 'a', 'b', 'c' ]\n",
    "my_data = [ 10, 20, 30 ]\n",
    "array_1 = np.array(my_data)\n",
    "d = { 'a': 10, 'b': 20, 'c': 30 }\n",
    "print(f'Labels: {labels}')\n",
    "print(f'My data: {my_data}')\n",
    "print(f'Dictionary: {d}')\n",
    "\n",
    "## Without labels\n",
    "series_1 = pd.Series(data=my_data)\n",
    "print(f'series_1: {series_1}')\n",
    "\n",
    "## With labels\n",
    "series_2 = pd.Series(data=my_data, index=labels)\n",
    "print(f'series_2: {series_2}')\n",
    "\n",
    "## Using NumPy array\n",
    "series_3 = pd.Series(data=array_1, index=labels)\n",
    "print(f'series_3: {series_3}')\n",
    "\n",
    "## Using Python Dictionary\n",
    "series_4 = pd.Series(d)\n",
    "print(f'series_4: {series_4}')"
   ]
  },
  {
   "cell_type": "markdown",
   "metadata": {},
   "source": [
    "##### Pandas Series and Data Handling"
   ]
  },
  {
   "cell_type": "code",
   "execution_count": 23,
   "metadata": {},
   "outputs": [
    {
     "name": "stdout",
     "output_type": "stream",
     "text": [
      "\n",
      "Holding numerical data\n",
      "-------------------------\n",
      "0    10\n",
      "1    20\n",
      "2    30\n",
      "dtype: int64\n",
      "\n",
      "Holding text labels\n",
      "--------------------\n",
      "0    a\n",
      "1    b\n",
      "2    c\n",
      "dtype: object\n",
      "\n",
      "Holding functions\n",
      "--------------------\n",
      "0      <built-in function sum>\n",
      "1    <built-in function print>\n",
      "2      <built-in function len>\n",
      "dtype: object\n",
      "\n",
      "Holding objects from a dictionary\n",
      "----------------------------------------\n",
      "0    <built-in method keys of dict object at 0x121d...\n",
      "1    <built-in method items of dict object at 0x121...\n",
      "2    <built-in method values of dict object at 0x12...\n",
      "dtype: object\n"
     ]
    }
   ],
   "source": [
    "print('\\nHolding numerical data\\n',  '-' * 25 , sep='')\n",
    "print(pd.Series(array_1))\n",
    "\n",
    "print('\\nHolding text labels\\n',  '-' * 20 , sep='')\n",
    "print(pd.Series(labels))\n",
    "\n",
    "print('\\nHolding functions\\n',  '-' * 20 , sep='')\n",
    "print(pd.Series(data=[ sum, print, len ]))\n",
    "\n",
    "print('\\nHolding objects from a dictionary\\n',  '-' * 40 , sep='')\n",
    "print(pd.Series(data=[ d.keys, d.items, d.values ]))"
   ]
  },
  {
   "cell_type": "markdown",
   "metadata": {},
   "source": [
    "##### Creating Pandas DataFrames\n",
    "\n",
    "The DaraFrame is similar to an Excel table or relationship database (SQL) table that consists of three main components: the data, the index (or rows), and the columns. It is implemented using a stack of series objects which are built on top of NumPy arrays."
   ]
  },
  {
   "cell_type": "code",
   "execution_count": 24,
   "metadata": {},
   "outputs": [
    {
     "name": "stdout",
     "output_type": "stream",
     "text": [
      "\n",
      "The data frame looks like\n",
      "---------------------------------------------\n",
      "   W  X  Y  Z\n",
      "A  4  2  6  9\n",
      "B  9  2  1  6\n",
      "C  7  8  6  8\n",
      "D  6  9  6  9\n",
      "E  8  4  3  8\n"
     ]
    }
   ],
   "source": [
    "# DataFrame creation\n",
    "matrix_data = np.random.randint(1, 10, size=20).reshape(5, 4)\n",
    "row_labels = [ 'A', 'B', 'C', 'D', 'E' ]\n",
    "column_headings = [ 'W', 'X', 'Y', 'Z' ]\n",
    "df = pd.DataFrame(data=matrix_data, index=row_labels, columns=column_headings)\n",
    "print('\\nThe data frame looks like\\n', '-' * 45, sep='')\n",
    "print(df)"
   ]
  },
  {
   "cell_type": "code",
   "execution_count": 25,
   "metadata": {},
   "outputs": [
    {
     "name": "stdout",
     "output_type": "stream",
     "text": [
      "    a   b   c\n",
      "X  10  30  50\n",
      "Y  20  40  60\n"
     ]
    }
   ],
   "source": [
    "# DataFrame creation using Python dictionary\n",
    "d={\n",
    "    'a': [ 10, 20 ],\n",
    "    'b': [ 30, 40 ],\n",
    "    'c': [ 50, 60 ]\n",
    "}\n",
    "\n",
    "df2 = pd.DataFrame(data=d, index=[ 'X', 'Y' ])\n",
    "print(df2)"
   ]
  },
  {
   "cell_type": "markdown",
   "metadata": {},
   "source": [
    "##### Viewing a DataFrame partially\n",
    "\n",
    "The DataFrame provides functions to return a subset of the data for manipulation."
   ]
  },
  {
   "cell_type": "code",
   "execution_count": 26,
   "metadata": {},
   "outputs": [
    {
     "name": "stdout",
     "output_type": "stream",
     "text": [
      "First 5 rows\n",
      "--------------------\n",
      "    W   X   Y   Z\n",
      "0  37  36   1   4\n",
      "1  97  50  76  72\n",
      "2   2  15   5  61\n",
      "3  37  79  36  95\n",
      "4  16   1  99  59\n",
      "\n",
      "First 8 rows\n",
      "--------------------\n",
      "    W   X   Y   Z\n",
      "0  37  36   1   4\n",
      "1  97  50  76  72\n",
      "2   2  15   5  61\n",
      "3  37  79  36  95\n",
      "4  16   1  99  59\n",
      "5  34  78  37  62\n",
      "6  62  34  81  72\n",
      "7  38  73  47  77\n",
      "\n",
      "Last 10 rows\n",
      "--------------------\n",
      "     W   X   Y   Z\n",
      "15  88   3  65  74\n",
      "16  66  58  72  31\n",
      "17  76  65  29  95\n",
      "18  14  28  41  32\n",
      "19  91  88  64  99\n",
      "20  57  18  16  36\n",
      "21  44  60  57  39\n",
      "22  50  58  32  52\n",
      "23  21  97  63   2\n",
      "24  14  16  27  56\n",
      "\n"
     ]
    }
   ],
   "source": [
    "# Create a DataFrame with 25 rows and 4 columns\n",
    "matrix_data = np.random.randint(1, 100, 100).reshape(25, 4)\n",
    "\n",
    "column_headings = [ 'W', 'X', 'Y', 'Z' ]\n",
    "df = pd.DataFrame(data=matrix_data, columns=column_headings)\n",
    "\n",
    "print(f'First 5 rows\\n{ \"-\" * 20}\\n{df.head()}\\n')\n",
    "print(f'First 8 rows\\n{ \"-\" * 20}\\n{df.head(8)}\\n')\n",
    "print(f'Last 10 rows\\n{ \"-\" * 20}\\n{df.tail(10)}\\n')"
   ]
  },
  {
   "cell_type": "markdown",
   "metadata": {},
   "source": [
    "##### Indexing and Slicing Columns\n",
    "\n",
    "The DataFrame provides the following functions to perform indexing and slicing columns.\n",
    "\n",
    "1. DOT - Use to find a specific element `df.row.column`\n",
    "2. Bracket - Similar to array slicing `df[[ 'X', 'Y' ]]`"
   ]
  },
  {
   "cell_type": "code",
   "execution_count": 27,
   "metadata": {},
   "outputs": [
    {
     "name": "stdout",
     "output_type": "stream",
     "text": [
      "\n",
      "The 'X' column using Bracket\n",
      "-------------------------\n",
      "0     36\n",
      "1     50\n",
      "2     15\n",
      "3     79\n",
      "4      1\n",
      "5     78\n",
      "6     34\n",
      "7     73\n",
      "8     57\n",
      "9     79\n",
      "10     2\n",
      "11    81\n",
      "12    47\n",
      "13    70\n",
      "14    12\n",
      "15     3\n",
      "16    58\n",
      "17    65\n",
      "18    28\n",
      "19    88\n",
      "20    18\n",
      "21    60\n",
      "22    58\n",
      "23    97\n",
      "24    16\n",
      "Name: X, dtype: int64\n",
      "\n",
      "Type of the column: <class 'pandas.core.series.Series'>\n",
      "\n",
      "The 'Z' column using DOT\n",
      "-------------------------\n",
      "0      4\n",
      "1     72\n",
      "2     61\n",
      "3     95\n",
      "4     59\n",
      "5     62\n",
      "6     72\n",
      "7     77\n",
      "8     12\n",
      "9     32\n",
      "10    38\n",
      "11    75\n",
      "12     9\n",
      "13    43\n",
      "14    65\n",
      "15    74\n",
      "16    31\n",
      "17    95\n",
      "18    32\n",
      "19    99\n",
      "20    36\n",
      "21    39\n",
      "22    52\n",
      "23     2\n",
      "24    56\n",
      "Name: Z, dtype: int64\n",
      "\n",
      "The 'X' and 'Y' columns are indexed by passing a list\n",
      "-------------------------------------------------------\n",
      "     X   Y\n",
      "0   36   1\n",
      "1   50  76\n",
      "2   15   5\n",
      "3   79  36\n",
      "4    1  99\n",
      "5   78  37\n",
      "6   34  81\n",
      "7   73  47\n",
      "8   57  90\n",
      "9   79  76\n",
      "10   2  74\n",
      "11  81  67\n",
      "12  47  56\n",
      "13  70  14\n",
      "14  12  36\n",
      "15   3  65\n",
      "16  58  72\n",
      "17  65  29\n",
      "18  28  41\n",
      "19  88  64\n",
      "20  18  16\n",
      "21  60  57\n",
      "22  58  32\n",
      "23  97  63\n",
      "24  16  27\n",
      "\n",
      "Type of the column: <class 'pandas.core.frame.DataFrame'>\n"
     ]
    }
   ],
   "source": [
    "print('\\nThe \\'X\\' column using Bracket\\n', '-' * 25, sep='')\n",
    "print(df['X'])\n",
    "print(f'\\nType of the column: { type(df[\"X\"]) }')\n",
    "      \n",
    "print('\\nThe \\'Z\\' column using DOT\\n', '-' * 25, sep='')\n",
    "print(df.Z)\n",
    "\n",
    "print(f'\\nThe \\'X\\' and \\'Y\\' columns are indexed by passing a list\\n{ \"-\" * 55}')\n",
    "print(df[[ 'X', 'Y' ]])\n",
    "print(f'\\nType of the column: { type(df[[ \"X\", \"Y\" ]]) }')"
   ]
  },
  {
   "cell_type": "markdown",
   "metadata": {},
   "source": [
    "##### Indexing and Slicing Rows\n",
    "\n",
    "The DataFrame provides the following methods for indexing and slicing rows.\n",
    "\n",
    "1. Label-based 'loc' method\n",
    "2. Index-based 'iloc' method"
   ]
  },
  {
   "cell_type": "code",
   "execution_count": 28,
   "metadata": {},
   "outputs": [
    {
     "name": "stdout",
     "output_type": "stream",
     "text": [
      "\n",
      "DataFrame\n",
      "   W  X  Y  Z\n",
      "A  2  6  2  3\n",
      "B  3  9  9  3\n",
      "C  2  7  3  6\n",
      "D  9  3  2  8\n",
      "E  3  6  6  1\n",
      "\n",
      "Label-based 'loc' method for selecting row(s)\n",
      "------------------------------------------------------------\n",
      "\n",
      "Single row\n",
      "W    2\n",
      "X    7\n",
      "Y    3\n",
      "Z    6\n",
      "Name: C, dtype: int64\n",
      "\n",
      "Multiple rows\n",
      "   W  X  Y  Z\n",
      "B  3  9  9  3\n",
      "C  2  7  3  6\n",
      "\n",
      "Index position based 'iloc' method for selecting row(s)\n",
      "------------------------------------------------------------\n",
      "\n",
      "Single row\n",
      "W    2\n",
      "X    7\n",
      "Y    3\n",
      "Z    6\n",
      "Name: C, dtype: int64\n",
      "\n",
      "Multiple rows\n",
      "   W  X  Y  Z\n",
      "B  3  9  9  3\n",
      "C  2  7  3  6\n"
     ]
    }
   ],
   "source": [
    "matrix_data = np.random.randint(1, 10, size=20).reshape(5, 4)\n",
    "\n",
    "row_Labels = [ 'A', 'B', 'C', 'D', 'E' ]\n",
    "column_headings = [ 'W', 'X', 'Y', 'Z' ]\n",
    "\n",
    "df = pd.DataFrame(data=matrix_data, index=row_labels, columns=column_headings)\n",
    "\n",
    "print(f\"\\nDataFrame\\n{df}\")\n",
    "\n",
    "print(\"\\nLabel-based 'loc' method for selecting row(s)\\n\", '-' * 60, sep='')\n",
    "print(f\"\\nSingle row\\n{df.loc['C']}\")\n",
    "print(f\"\\nMultiple rows\\n{df.loc[[ 'B', 'C' ]]}\")      \n",
    "      \n",
    "print(\"\\nIndex position based 'iloc' method for selecting row(s)\\n\", '-' * 60, sep='')\n",
    "print(f\"\\nSingle row\\n{df.iloc[2]}\")\n",
    "print(f\"\\nMultiple rows\\n{df.iloc[[ 1, 2 ]]}\")      \n",
    "      \n",
    "      "
   ]
  },
  {
   "cell_type": "markdown",
   "metadata": {},
   "source": [
    "##### Creating and Deleting a new column or row\n",
    "\n",
    "Data Wrangling usually involves removing columns or rows of data that is not required for processing. There will also be use cases when new rows or columns might be generated based on transforming or performing mathematical operations on existing data."
   ]
  },
  {
   "cell_type": "code",
   "execution_count": 29,
   "metadata": {},
   "outputs": [
    {
     "name": "stdout",
     "output_type": "stream",
     "text": [
      "\n",
      "A column is created by assigning it in relation\n",
      "---------------------------------------------------------------------------\n",
      "   W  X  Y  Z  New  New (Sum of X and Z)\n",
      "A  2  6  2  3    9                     9\n",
      "B  3  9  9  3   12                    12\n",
      "C  2  7  3  6   13                    13\n",
      "D  9  3  2  8   11                    11\n",
      "E  3  6  6  1    7                     7\n"
     ]
    }
   ],
   "source": [
    "print(\"\\nA column is created by assigning it in relation\\n\", '-' * 75, sep='')\n",
    "df['New'] = df['X'] + df['Z']\n",
    "df['New (Sum of X and Z)'] = df['X'] + df['Z']\n",
    "print(df)"
   ]
  },
  {
   "cell_type": "code",
   "execution_count": 30,
   "metadata": {},
   "outputs": [
    {
     "name": "stdout",
     "output_type": "stream",
     "text": [
      "\n",
      "A column is dropped by using df.drop() method\n",
      "-------------------------------------------------------\n",
      "   W  X  Y  Z  New (Sum of X and Z)\n",
      "A  2  6  2  3                     9\n",
      "B  3  9  9  3                    12\n",
      "C  2  7  3  6                    13\n",
      "D  9  3  2  8                    11\n",
      "E  3  6  6  1                     7\n"
     ]
    }
   ],
   "source": [
    "print('\\nA column is dropped by using df.drop() method\\n', '-' * 55, sep='')\n",
    "df = df.drop('New', axis=1) # Notice the axis=1 option, axis=0 is #default, so one has to change it to 1\n",
    "print(df)"
   ]
  },
  {
   "cell_type": "code",
   "execution_count": 31,
   "metadata": {},
   "outputs": [
    {
     "name": "stdout",
     "output_type": "stream",
     "text": [
      "\n",
      "A row is dropped by using df.drop method and axis=0\n",
      "-----------------------------------------------------------------\n",
      "   W  X  Y  Z  New (Sum of X and Z)\n",
      "B  3  9  9  3                    12\n",
      "C  2  7  3  6                    13\n",
      "D  9  3  2  8                    11\n",
      "E  3  6  6  1                     7\n"
     ]
    }
   ],
   "source": [
    "df1 = df.drop('A')\n",
    "print(\"\\nA row is dropped by using df.drop method and axis=0\\n\", '-' * 65, sep='')\n",
    "print(df1)"
   ]
  },
  {
   "cell_type": "code",
   "execution_count": 32,
   "metadata": {},
   "outputs": [
    {
     "name": "stdout",
     "output_type": "stream",
     "text": [
      "\n",
      "An in-place change can be done by making inplace=True in the drop method\n",
      "---------------------------------------------------------------------------\n",
      "   W  X  Y  Z\n",
      "A  2  6  2  3\n",
      "B  3  9  9  3\n",
      "C  2  7  3  6\n",
      "D  9  3  2  8\n",
      "E  3  6  6  1\n"
     ]
    }
   ],
   "source": [
    "print(\"\\nAn in-place change can be done by making inplace=True in the drop method\\n\", '-' * 75, sep='')\n",
    "df.drop('New (Sum of X and Z)', axis=1, inplace=True)\n",
    "print(df)"
   ]
  },
  {
   "cell_type": "markdown",
   "metadata": {},
   "source": [
    "> Note: All the normal operations are not in-place, that is, they do not impact the original DataFrame object but return a copy of the original with addition (or deletion). The last bit of code shows how to make a change in the existing DataFrame with the inplace=True argument. Please note that this change is irreversible and should be used with caution."
   ]
  },
  {
   "cell_type": "markdown",
   "metadata": {},
   "source": [
    "##### Introduction to MATPLOTLIB through a scatter plot"
   ]
  },
  {
   "cell_type": "code",
   "execution_count": 33,
   "metadata": {},
   "outputs": [
    {
     "data": {
      "image/png": "[encoded data removed]",
      "text/plain": [
       "<Figure size 432x288 with 1 Axes>"
      ]
     },
     "metadata": {
      "needs_background": "light"
     },
     "output_type": "display_data"
    }
   ],
   "source": [
    "people = [\n",
    "    'Ann', 'Brandon', 'Chen', 'David', 'Emily', \n",
    "    'Farook', 'Gagan', 'Hamish', 'Imran', 'Joseph',\n",
    "    'Katherine', 'Lily'\n",
    "]\n",
    "\n",
    "age = [\n",
    "    21, 12, 32, 45, 37, 18, 28, 52, 5, 40, 48, 15\n",
    "]\n",
    "\n",
    "weight = [\n",
    "    55, 35, 77, 68, 70, 60, 72, 69, 18, 65, 82, 48\n",
    "]\n",
    "\n",
    "height = [\n",
    "    160, 135, 170, 165, 173, 168, 175, 159, 105, 171, 155, 158\n",
    "]\n",
    "\n",
    "plt.scatter(age, weight)\n",
    "plt.show()"
   ]
  },
  {
   "cell_type": "code",
   "execution_count": 34,
   "metadata": {},
   "outputs": [
    {
     "data": {
      "image/png": "[encoded data removed]",
      "text/plain": [
       "<Figure size 576x432 with 1 Axes>"
      ]
     },
     "metadata": {
      "needs_background": "light"
     },
     "output_type": "display_data"
    }
   ],
   "source": [
    "plt.figure(figsize=(8, 6))\n",
    "plt.title(\"Plot of Age vs. Weight (in kgs)\", fontsize=20)\n",
    "plt.xlabel(\"Age (years)\", fontsize=16)\n",
    "plt.ylabel(\"Weight (kgs)\", fontsize=16)\n",
    "plt.grid(True)\n",
    "plt.ylim(0, 100)\n",
    "plt.xticks([ i * 5 for i in range(12) ], fontsize=15)\n",
    "plt.yticks(fontsize=15)\n",
    "plt.scatter(x=age, y=weight, c='orange', s=150, edgecolors='k')\n",
    "plt.text(x=20, y=85, s=\"Weights after 18-20 years of age\", fontsize=15)\n",
    "plt.vlines(x=20, ymin=0, ymax=80, linestyles='dashed', color='blue', lw=3)\n",
    "plt.legend([ 'Weight in kgs' ], loc=2, fontsize=12)\n",
    "plt.show()\n"
   ]
  },
  {
   "cell_type": "markdown",
   "metadata": {},
   "source": [
    "##### Generating random numbers from a uniform distribution"
   ]
  },
  {
   "cell_type": "code",
   "execution_count": 35,
   "metadata": {},
   "outputs": [
    {
     "name": "stdout",
     "output_type": "stream",
     "text": [
      "6\n",
      "[8]\n",
      "[91.03 52.32 78.68 56.39 52.13 92.88 63.15 89.22 84.24 78.33 92.38 69.33\n",
      " 58.26 59.84 71.37]\n",
      "[[0.5521764  0.8802798  0.52392915]\n",
      " [0.67291949 0.35115198 0.89648065]\n",
      " [0.95182988 0.76521458 0.99089963]]\n"
     ]
    }
   ],
   "source": [
    "x = np.random.randint(1, 10)\n",
    "print(x)\n",
    "\n",
    "x = np.random.randint(1, 10, size=1)\n",
    "print(x)\n",
    "\n",
    "x = 50 + 50 * np.random.random(size=15)\n",
    "x = x.round(decimals=2)\n",
    "print(x)\n",
    "\n",
    "x = np.random.rand(3, 3)\n",
    "print(x)"
   ]
  },
  {
   "cell_type": "markdown",
   "metadata": {},
   "source": [
    "##### Generating random numbers from a binomial distribution and bar plot"
   ]
  },
  {
   "cell_type": "code",
   "execution_count": 36,
   "metadata": {},
   "outputs": [
    {
     "name": "stdout",
     "output_type": "stream",
     "text": [
      "[6 6 2 8 9 6 6 8]\n"
     ]
    },
    {
     "data": {
      "image/png": "[encoded data removed]",
      "text/plain": [
       "<Figure size 504x288 with 1 Axes>"
      ]
     },
     "metadata": {
      "needs_background": "light"
     },
     "output_type": "display_data"
    }
   ],
   "source": [
    "# simulating a coin toss with biased probability of 0.6 for heads\n",
    "x = np.random.binomial(10, 0.6, size=8)\n",
    "print(x)\n",
    "\n",
    "plt.figure(figsize=(7,4))\n",
    "plt.title(\"Number of successes in coin toss\", fontsize=16)\n",
    "plt.bar(np.arange(1, 9), height=x)\n",
    "plt.xlabel(\"Experiment number\", fontsize=15)\n",
    "plt.ylabel(\"Number of sucesses\", fontsize=15)\n",
    "plt.show()"
   ]
  },
  {
   "cell_type": "markdown",
   "metadata": {},
   "source": [
    "##### Generating random numbers from normal distribution and histograms"
   ]
  },
  {
   "cell_type": "code",
   "execution_count": 37,
   "metadata": {},
   "outputs": [
    {
     "name": "stdout",
     "output_type": "stream",
     "text": [
      "0.26522058821674543\n"
     ]
    },
    {
     "data": {
      "image/png": "[encoded data removed]",
      "text/plain": [
       "<Figure size 504x360 with 1 Axes>"
      ]
     },
     "metadata": {
      "needs_background": "light"
     },
     "output_type": "display_data"
    }
   ],
   "source": [
    "x = np.random.normal()\n",
    "print(x)\n",
    "\n",
    "# Code to generate the 100 samples (heights\n",
    "heights = np.random.normal(loc=155, scale=10, size=100)\n",
    "\n",
    "# Plotting code\n",
    "#----------------------\n",
    "plt.figure(figsize=(7, 5))\n",
    "plt.hist(heights, color='orange', edgecolor='k')\n",
    "plt.title(\"Histogram of teen aged student's height\", fontsize=18)\n",
    "plt.xlabel('Height in cm', fontsize=15)\n",
    "plt.xticks(fontsize=15)\n",
    "plt.yticks(fontsize=15)\n",
    "plt.show()\n"
   ]
  },
  {
   "cell_type": "markdown",
   "metadata": {},
   "source": [
    "##### Calculation of Descriptive Statistics from a DataFrame"
   ]
  },
  {
   "cell_type": "code",
   "execution_count": 38,
   "metadata": {},
   "outputs": [
    {
     "name": "stdout",
     "output_type": "stream",
     "text": [
      "\n",
      "people_df\n",
      "       People  Age  Weight  Height\n",
      "0         Ann   21      55     160\n",
      "1     Brandon   12      35     135\n",
      "2        Chen   32      77     170\n",
      "3       David   45      68     165\n",
      "4       Emily   37      70     173\n",
      "5      Farook   18      60     168\n",
      "6       Gagan   28      72     175\n",
      "7      Hamish   52      69     159\n",
      "8       Imran    5      18     105\n",
      "9      Joseph   40      65     171\n",
      "10  Katherine   48      82     155\n",
      "11       Lily   15      48     158\n",
      "\n",
      "people_df shape: (12, 4)\n",
      "\n",
      "people_df count: People    12\n",
      "Age       12\n",
      "Weight    12\n",
      "Height    12\n",
      "dtype: int64\n",
      "\n",
      "people_df['Age'] count: 12\n",
      "\n",
      "people_df['Age'] sum: 353\n",
      "\n",
      "people_df['Age'] mean: 29.416666666666668\n",
      "\n",
      "people_df['Weight'] median: 66.5\n",
      "\n",
      "people_df['Height'] max: 175\n",
      "\n",
      "people_df['Weight'] std: 18.45120510148239\n",
      "\n",
      "Inter-quartile range: 24.0\n",
      "             Age     Weight      Height\n",
      "count  12.000000  12.000000   12.000000\n",
      "mean   29.416667  59.916667  157.833333\n",
      "std    15.329463  18.451205   19.834925\n",
      "min     5.000000  18.000000  105.000000\n",
      "25%    17.250000  53.250000  157.250000\n",
      "50%    30.000000  66.500000  162.500000\n",
      "75%    41.250000  70.500000  170.250000\n",
      "max    52.000000  82.000000  175.000000\n"
     ]
    }
   ],
   "source": [
    "people_dict = {\n",
    "    'People': people, 'Age': age, 'Weight': weight, 'Height': height\n",
    "}\n",
    "people_df = pd.DataFrame(data=people_dict)\n",
    "print(f\"\\npeople_df\\n{people_df}\")\n",
    "print(f\"\\npeople_df shape: {people_df.shape}\")\n",
    "print(f\"\\npeople_df count: {people_df.count()}\")\n",
    "print(f\"\\npeople_df['Age'] count: {people_df['Age'].count()}\")\n",
    "print(f\"\\npeople_df['Age'] sum: {people_df['Age'].sum()}\")\n",
    "print(f\"\\npeople_df['Age'] mean: {people_df['Age'].mean()}\")\n",
    "print(f\"\\npeople_df['Weight'] median: {people_df['Weight'].median()}\")\n",
    "print(f\"\\npeople_df['Height'] max: {people_df['Height'].max()}\")\n",
    "print(f\"\\npeople_df['Weight'] std: {people_df['Weight'].std()}\")\n",
    "\n",
    "pcnt_75 = np.percentile(people_df['Age'], 75)\n",
    "pcnt_25 = np.percentile(people_df['Age'], 25)\n",
    "print(f\"\\nInter-quartile range: {pcnt_75 - pcnt_25}\")\n",
    "print(people_df.describe())\n",
    "      \n"
   ]
  },
  {
   "cell_type": "markdown",
   "metadata": {},
   "source": [
    "##### Built-in Plotting utilities\n",
    "\n",
    "DataFrame also supports some basic plotting utilities that wrap around matplotlib functions"
   ]
  },
  {
   "cell_type": "code",
   "execution_count": 39,
   "metadata": {},
   "outputs": [
    {
     "data": {
      "image/png": "[encoded data removed]",
      "text/plain": [
       "<Figure size 432x288 with 1 Axes>"
      ]
     },
     "metadata": {
      "needs_background": "light"
     },
     "output_type": "display_data"
    }
   ],
   "source": [
    "people_df['Weight'].hist()\n",
    "plt.show()"
   ]
  },
  {
   "cell_type": "code",
   "execution_count": 41,
   "metadata": {},
   "outputs": [
    {
     "data": {
      "image/png": "[encoded data removed]",
      "text/plain": [
       "<Figure size 432x288 with 1 Axes>"
      ]
     },
     "metadata": {
      "needs_background": "light"
     },
     "output_type": "display_data"
    }
   ],
   "source": [
    "people_df.plot.scatter('Weight', 'Height', s=150, c='orange', edgecolor='k')\n",
    "plt.grid(True)\n",
    "plt.title(\"Weight vs. Height scatter plot\", fontsize=18)\n",
    "plt.xlabel(\"Weight (in kg)\", fontsize=15)\n",
    "plt.ylabel(\"Height (in cm)\", fontsize=15)\n",
    "plt.show()"
   ]
  },
  {
   "cell_type": "markdown",
   "metadata": {},
   "source": [
    "##### Activity 5: Generating Statistics from a CSV file\n",
    "\n",
    "In this acitvity, you will work with **Boston Housing Price dataset**. The Boston house-price data has been used in many machine learning papers that address regression problems. You will read the data from a CSV file into a Pandas DataFrame and do some data basic wrangling with it.\n",
    "\n",
    "Following are the details of the attributes of this dataset for your reference. You may have to refer them while answering question on this activity.\n",
    "\n",
    "* **CRIM**: per capita crime rate by town\n",
    "* **ZN**: proportion of residential land zoned for lots over 25,000 sq.ft.\n",
    "* **INDUS**: proportion of non-retail business acres per town\n",
    "* **CHAS**: Charles River dummy variable (= 1 if tract bounds river; 0 otherwise)\n",
    "* **NOX**: nitric oxides concentration (parts per 10 million)\n",
    "* **RM**: average number of rooms per dwelling\n",
    "* **AGE**: proportion of owner-occupied units built prior to 1940\n",
    "* **DIS**: weighted distances to five Boston employment centres\n",
    "* **RAD**: index of accessibility to radial highways\n",
    "* **TAX**: full-value property-tax rate per 10,000 dollars\n",
    "* **PTRATIO:** pupil-teacher ratio by town\n",
    "* **B**: 1000(Bk - 0.63)^2 where Bk is the proportion of blacks by town\n",
    "* **LSTAT**: % of lower status of the population\n",
    "* **PRICE**: Median value of owner-occupied homes in $1000's"
   ]
  },
  {
   "cell_type": "code",
   "execution_count": 63,
   "metadata": {},
   "outputs": [
    {
     "name": "stdout",
     "output_type": "stream",
     "text": [
      "First 10 records:\n",
      "      CRIM    ZN  INDUS  CHAS    NOX     RM   AGE     DIS  RAD  TAX  PTRATIO  \\\n",
      "0  0.00632  18.0   2.31     0  0.538  6.575  65.2  4.0900    1  296     15.3   \n",
      "1  0.02731   0.0   7.07     0  0.469  6.421  78.9  4.9671    2  242     17.8   \n",
      "2  0.02729   0.0   7.07     0  0.469  7.185  61.1  4.9671    2  242     17.8   \n",
      "3  0.03237   0.0   2.18     0  0.458  6.998  45.8  6.0622    3  222     18.7   \n",
      "4  0.06905   0.0   2.18     0  0.458  7.147  54.2  6.0622    3  222     18.7   \n",
      "\n",
      "        B  LSTAT  MEDV  \n",
      "0  396.90   4.98  24.0  \n",
      "1  396.90   9.14  21.6  \n",
      "2  392.83   4.03  34.7  \n",
      "3  394.63   2.94  33.4  \n",
      "4  396.90   5.33  36.2  \n",
      "Shape: (506, 14)\n",
      "Last 7 records:\n",
      "        CRIM   ZN  INDUS     RM   AGE     DIS  RAD  TAX  PTRATIO  MEDV\n",
      "499  0.17783  0.0   9.69  5.569  73.5  2.3999    6  391     19.2  17.5\n",
      "500  0.22438  0.0   9.69  6.027  79.7  2.4982    6  391     19.2  16.8\n",
      "501  0.06263  0.0  11.93  6.593  69.1  2.4786    1  273     21.0  22.4\n",
      "502  0.04527  0.0  11.93  6.120  76.7  2.2875    1  273     21.0  20.6\n",
      "503  0.06076  0.0  11.93  6.976  91.0  2.1675    1  273     21.0  23.9\n",
      "504  0.10959  0.0  11.93  6.794  89.3  2.3889    1  273     21.0  22.0\n",
      "505  0.04741  0.0  11.93  6.030  80.8  2.5050    1  273     21.0  11.9\n"
     ]
    },
    {
     "data": {
      "image/png": "[encoded data removed]",
      "text/plain": [
       "<Figure size 432x288 with 1 Axes>"
      ]
     },
     "metadata": {
      "needs_background": "light"
     },
     "output_type": "display_data"
    },
    {
     "data": {
      "image/png": "[encoded data removed]",
      "text/plain": [
       "<Figure size 432x288 with 1 Axes>"
      ]
     },
     "metadata": {
      "needs_background": "light"
     },
     "output_type": "display_data"
    },
    {
     "data": {
      "image/png": "[encoded data removed]",
      "text/plain": [
       "<Figure size 432x288 with 1 Axes>"
      ]
     },
     "metadata": {
      "needs_background": "light"
     },
     "output_type": "display_data"
    },
    {
     "data": {
      "image/png": "[encoded data removed]",
      "text/plain": [
       "<Figure size 432x288 with 1 Axes>"
      ]
     },
     "metadata": {
      "needs_background": "light"
     },
     "output_type": "display_data"
    },
    {
     "data": {
      "image/png": "[encoded data removed]",
      "text/plain": [
       "<Figure size 432x288 with 1 Axes>"
      ]
     },
     "metadata": {
      "needs_background": "light"
     },
     "output_type": "display_data"
    },
    {
     "data": {
      "image/png": "[encoded data removed]",
      "text/plain": [
       "<Figure size 432x288 with 1 Axes>"
      ]
     },
     "metadata": {
      "needs_background": "light"
     },
     "output_type": "display_data"
    },
    {
     "data": {
      "image/png": "[encoded data removed]",
      "text/plain": [
       "<Figure size 432x288 with 1 Axes>"
      ]
     },
     "metadata": {
      "needs_background": "light"
     },
     "output_type": "display_data"
    },
    {
     "data": {
      "image/png": "[encoded data removed]",
      "text/plain": [
       "<Figure size 432x288 with 1 Axes>"
      ]
     },
     "metadata": {
      "needs_background": "light"
     },
     "output_type": "display_data"
    },
    {
     "data": {
      "image/png": "[encoded data removed]",
      "text/plain": [
       "<Figure size 432x288 with 1 Axes>"
      ]
     },
     "metadata": {
      "needs_background": "light"
     },
     "output_type": "display_data"
    },
    {
     "data": {
      "image/png": "[encoded data removed]",
      "text/plain": [
       "<Figure size 432x288 with 1 Axes>"
      ]
     },
     "metadata": {
      "needs_background": "light"
     },
     "output_type": "display_data"
    },
    {
     "data": {
      "image/png": "[encoded data removed]",
      "text/plain": [
       "<Figure size 432x288 with 1 Axes>"
      ]
     },
     "metadata": {
      "needs_background": "light"
     },
     "output_type": "display_data"
    },
    {
     "data": {
      "image/png": "[encoded data removed]",
      "text/plain": [
       "<Figure size 432x288 with 1 Axes>"
      ]
     },
     "metadata": {
      "needs_background": "light"
     },
     "output_type": "display_data"
    },
    {
     "name": "stdout",
     "output_type": "stream",
     "text": [
      "Mean rooms per dwelling:\n",
      "6.284634387351779\n",
      "Median age:\n",
      "77.5\n",
      "Mean distances to five Boston employment centers:\n",
      "3.795042687747036\n",
      "Low priced:\n",
      "0      False\n",
      "1      False\n",
      "2      False\n",
      "3      False\n",
      "4      False\n",
      "5      False\n",
      "6      False\n",
      "7      False\n",
      "8       True\n",
      "9       True\n",
      "10      True\n",
      "11      True\n",
      "12     False\n",
      "13     False\n",
      "14      True\n",
      "15      True\n",
      "16     False\n",
      "17      True\n",
      "18     False\n",
      "19      True\n",
      "20      True\n",
      "21      True\n",
      "22      True\n",
      "23      True\n",
      "24      True\n",
      "25      True\n",
      "26      True\n",
      "27      True\n",
      "28      True\n",
      "29     False\n",
      "       ...  \n",
      "476     True\n",
      "477     True\n",
      "478     True\n",
      "479    False\n",
      "480    False\n",
      "481    False\n",
      "482    False\n",
      "483    False\n",
      "484    False\n",
      "485    False\n",
      "486     True\n",
      "487    False\n",
      "488     True\n",
      "489     True\n",
      "490     True\n",
      "491     True\n",
      "492    False\n",
      "493    False\n",
      "494    False\n",
      "495    False\n",
      "496     True\n",
      "497     True\n",
      "498    False\n",
      "499     True\n",
      "500     True\n",
      "501    False\n",
      "502    False\n",
      "503    False\n",
      "504    False\n",
      "505     True\n",
      "Name: MEDV, Length: 506, dtype: bool\n",
      "Percentage of houst with a low price:\n",
      "41.50197628458498\n"
     ]
    }
   ],
   "source": [
    "import numpy as np\n",
    "import pandas as pd\n",
    "import matplotlib.pyplot as plt\n",
    "\n",
    "df = pd.read_csv('boston_house_prices.csv')\n",
    "print(f\"First 10 records:\\n{df.head()}\")\n",
    "print(f\"Shape: {df.shape}\")\n",
    "\n",
    "column_headings = [\"CRIM\",\"ZN\",\"INDUS\",\"RM\",\"AGE\",\"DIS\",\"RAD\",\"TAX\",\"PTRATIO\",\"MEDV\"]\n",
    "df1 = pd.read_csv('boston_house_prices.csv', usecols=column_headings)\n",
    "print(f\"Last 7 records:\\n{df1.tail(7)}\")\n",
    "\n",
    "for c in df1.columns:\n",
    "    plt.title(f\"Plot of {c}\", fontsize=15)\n",
    "    plt.hist(df1[c], bins=20)\n",
    "    plt.show()\n",
    "    \n",
    "plt.scatter(df1['CRIM'], df1['MEDV'])\n",
    "plt.show()\n",
    "\n",
    "plt.scatter(np.log10(df1['CRIM']), df1['MEDV'], c='red')\n",
    "plt.title(\"Crime rate (Log) vs. Price plot\", fontsize=18)\n",
    "plt.xlabel(\"Log of Crime rate\",fontsize=15)\n",
    "plt.ylabel(\"Price\",fontsize=15)\n",
    "plt.grid(True)\n",
    "plt.show()\n",
    "\n",
    "print(f\"Mean rooms per dwelling:\\n{df['RM'].mean()}\")\n",
    "print(f\"Median age:\\n{df['AGE'].median()}\")\n",
    "print(f\"Mean distances to five Boston employment centers:\\n{df['DIS'].mean()}\")      \n",
    "low_price = df1['MEDV'] < 20\n",
    "print(f\"Low priced:\\n{low_price}\")\n",
    "pcnt = low_price.mean() * 100\n",
    "print(f\"Percentage of houst with a low price:\\n{pcnt}\")      \n",
    "\n"
   ]
  },
  {
   "cell_type": "code",
   "execution_count": null,
   "metadata": {},
   "outputs": [],
   "source": []
  }
 ],
 "metadata": {
  "kernelspec": {
   "display_name": "Python 3",
   "language": "python",
   "name": "python3"
  },
  "language_info": {
   "codemirror_mode": {
    "name": "ipython",
    "version": 3
   },
   "file_extension": ".py",
   "mimetype": "text/x-python",
   "name": "python",
   "nbconvert_exporter": "python",
   "pygments_lexer": "ipython3",
   "version": "3.7.3"
  }
 },
 "nbformat": 4,
 "nbformat_minor": 2
}
